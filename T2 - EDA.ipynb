{
 "cells": [
  {
   "cell_type": "code",
   "execution_count": 9,
   "metadata": {
    "uuid": "b34fe7e5-5fc3-46eb-b937-2761a487b801"
   },
   "outputs": [
    {
     "name": "stdout",
     "output_type": "stream",
     "text": [
      "Looking in indexes: http://yum.tbsite.net/pypi/simple/\n",
      "Collecting pip\n",
      "\u001b[?25l  Downloading http://yum.tbsite.net/pypi/packages/fe/ef/60d7ba03b5c442309ef42e7d69959f73aacccd0d86008362a681c4698e83/pip-21.0.1-py3-none-any.whl (1.5MB)\n",
      "\u001b[K     |████████████████████████████████| 1.5MB 18.3MB/s \n",
      "\u001b[?25hInstalling collected packages: pip\n",
      "  Found existing installation: pip 19.3.1\n",
      "    Uninstalling pip-19.3.1:\n",
      "\u001b[31mERROR: Could not install packages due to an EnvironmentError: [Errno 13] Permission denied: '/opt/conda/bin/pip'\n",
      "Consider using the `--user` option or check the permissions.\n",
      "\u001b[0m\n",
      "\u001b[33mWARNING: You are using pip version 19.3.1; however, version 21.0.1 is available.\n",
      "You should consider upgrading via the 'pip install --upgrade pip' command.\u001b[0m\n"
     ]
    }
   ],
   "source": [
    "!pip install --upgrade pip"
   ]
  },
  {
   "cell_type": "code",
   "execution_count": 2,
   "metadata": {
    "uuid": "368045c8-a5ed-4cb4-aeb0-1ba7f1e6464b"
   },
   "outputs": [
    {
     "name": "stdout",
     "output_type": "stream",
     "text": [
      "Looking in indexes: http://yum.tbsite.net/pypi/simple/\n",
      "Requirement already satisfied: missingno in /data/nas/workspace/envs/python3.6/site-packages (0.4.2)\n",
      "Requirement already satisfied: scipy in /opt/conda/lib/python3.6/site-packages (from missingno) (1.3.3)\n",
      "Requirement already satisfied: numpy in /opt/conda/lib/python3.6/site-packages (from missingno) (1.16.0)\n",
      "Collecting seaborn\n",
      "\u001b[?25l  Downloading http://yum.tbsite.net/pypi/packages/68/ad/6c2406ae175f59ec616714e408979b674fe27b9587f79d59a528ddfbcd5b/seaborn-0.11.1-py3-none-any.whl (285kB)\n",
      "\u001b[K     |████████████████████████████████| 286kB 21.1MB/s \n",
      "\u001b[?25hRequirement already satisfied: matplotlib in /opt/conda/lib/python3.6/site-packages (from missingno) (3.1.2)\n",
      "Requirement already satisfied: pandas>=0.23 in /opt/conda/lib/python3.6/site-packages (from seaborn->missingno) (0.25.3)\n",
      "Requirement already satisfied: kiwisolver>=1.0.1 in /opt/conda/lib/python3.6/site-packages (from matplotlib->missingno) (1.1.0)\n",
      "Requirement already satisfied: pyparsing!=2.0.4,!=2.1.2,!=2.1.6,>=2.0.1 in /opt/conda/lib/python3.6/site-packages (from matplotlib->missingno) (2.4.5)\n",
      "Requirement already satisfied: cycler>=0.10 in /opt/conda/lib/python3.6/site-packages (from matplotlib->missingno) (0.10.0)\n",
      "Requirement already satisfied: python-dateutil>=2.1 in /opt/conda/lib/python3.6/site-packages (from matplotlib->missingno) (2.8.1)\n",
      "Requirement already satisfied: pytz>=2017.2 in /opt/conda/lib/python3.6/site-packages (from pandas>=0.23->seaborn->missingno) (2019.3)\n",
      "Requirement already satisfied: setuptools in /data/nas/workspace/envs/python3.6/site-packages (from kiwisolver>=1.0.1->matplotlib->missingno) (54.1.2)\n",
      "Requirement already satisfied: six in /opt/conda/lib/python3.6/site-packages (from cycler>=0.10->matplotlib->missingno) (1.11.0)\n",
      "\u001b[31mERROR: pandas-profiling 2.11.0 has requirement jinja2>=2.11.1, but you'll have jinja2 2.10.3 which is incompatible.\u001b[0m\n",
      "\u001b[31mERROR: pandas-profiling 2.11.0 has requirement matplotlib>=3.2.0, but you'll have matplotlib 3.1.2 which is incompatible.\u001b[0m\n",
      "\u001b[31mERROR: pandas-profiling 2.11.0 has requirement scipy>=1.4.1, but you'll have scipy 1.3.3 which is incompatible.\u001b[0m\n",
      "Installing collected packages: seaborn\n",
      "Successfully installed seaborn-0.11.1\n",
      "\u001b[33mWARNING: You are using pip version 19.3.1; however, version 21.0.1 is available.\n",
      "You should consider upgrading via the 'pip install --upgrade pip' command.\u001b[0m\n"
     ]
    }
   ],
   "source": [
    "!pip3 install missingno --user"
   ]
  },
  {
   "cell_type": "code",
   "execution_count": 4,
   "metadata": {
    "uuid": "8bd4b91c-41c2-4607-a013-14cab712f207"
   },
   "outputs": [
    {
     "name": "stdout",
     "output_type": "stream",
     "text": [
      "Looking in indexes: http://yum.tbsite.net/pypi/simple/\n",
      "Requirement already satisfied: pandas_profiling in /data/nas/workspace/envs/python3.6/site-packages (2.11.0)\n",
      "Requirement already satisfied: phik>=0.10.0 in /data/nas/workspace/envs/python3.6/site-packages (from pandas_profiling) (0.11.2)\n",
      "Requirement already satisfied: missingno>=0.4.2 in /data/nas/workspace/envs/python3.6/site-packages (from pandas_profiling) (0.4.2)\n",
      "Requirement already satisfied: matplotlib>=3.2.0 in /data/nas/workspace/envs/python3.6/site-packages (from pandas_profiling) (3.3.4)\n",
      "Requirement already satisfied: joblib in /data/nas/workspace/envs/python3.6/site-packages (from pandas_profiling) (1.0.1)\n",
      "Requirement already satisfied: ipywidgets>=7.5.1 in /data/nas/workspace/envs/python3.6/site-packages (from pandas_profiling) (7.6.3)\n",
      "Requirement already satisfied: visions[type_image_path]==0.6.0 in /data/nas/workspace/envs/python3.6/site-packages (from pandas_profiling) (0.6.0)\n",
      "Requirement already satisfied: numpy>=1.16.0 in /opt/conda/lib/python3.6/site-packages (from pandas_profiling) (1.16.0)\n",
      "Requirement already satisfied: requests>=2.24.0 in /data/nas/workspace/envs/python3.6/site-packages (from pandas_profiling) (2.25.1)\n",
      "Requirement already satisfied: confuse>=1.0.0 in /data/nas/workspace/envs/python3.6/site-packages (from pandas_profiling) (1.4.0)\n",
      "Requirement already satisfied: scipy>=1.4.1 in /data/nas/workspace/envs/python3.6/site-packages (from pandas_profiling) (1.5.4)\n",
      "Requirement already satisfied: tangled-up-in-unicode>=0.0.6 in /data/nas/workspace/envs/python3.6/site-packages (from pandas_profiling) (0.0.7)\n",
      "Requirement already satisfied: pandas!=1.0.0,!=1.0.1,!=1.0.2,!=1.1.0,>=0.25.3 in /opt/conda/lib/python3.6/site-packages (from pandas_profiling) (0.25.3)\n",
      "Requirement already satisfied: htmlmin>=0.1.12 in /data/nas/workspace/envs/python3.6/site-packages (from pandas_profiling) (0.1.12)\n",
      "Requirement already satisfied: jinja2>=2.11.1 in /data/nas/workspace/envs/python3.6/site-packages (from pandas_profiling) (2.11.3)\n",
      "Requirement already satisfied: seaborn>=0.10.1 in /data/nas/workspace/envs/python3.6/site-packages (from pandas_profiling) (0.11.1)\n",
      "Requirement already satisfied: attrs>=19.3.0 in /opt/conda/lib/python3.6/site-packages (from pandas_profiling) (19.3.0)\n",
      "Requirement already satisfied: tqdm>=4.48.2 in /data/nas/workspace/envs/python3.6/site-packages (from pandas_profiling) (4.59.0)\n",
      "Requirement already satisfied: pyparsing!=2.0.4,!=2.1.2,!=2.1.6,>=2.0.3 in /opt/conda/lib/python3.6/site-packages (from matplotlib>=3.2.0->pandas_profiling) (2.4.5)\n",
      "Requirement already satisfied: pillow>=6.2.0 in /opt/conda/lib/python3.6/site-packages (from matplotlib>=3.2.0->pandas_profiling) (6.2.1)\n",
      "Requirement already satisfied: kiwisolver>=1.0.1 in /opt/conda/lib/python3.6/site-packages (from matplotlib>=3.2.0->pandas_profiling) (1.1.0)\n",
      "Requirement already satisfied: cycler>=0.10 in /opt/conda/lib/python3.6/site-packages (from matplotlib>=3.2.0->pandas_profiling) (0.10.0)\n",
      "Requirement already satisfied: python-dateutil>=2.1 in /opt/conda/lib/python3.6/site-packages (from matplotlib>=3.2.0->pandas_profiling) (2.8.1)\n",
      "Requirement already satisfied: ipykernel>=4.5.1 in /opt/conda/lib/python3.6/site-packages (from ipywidgets>=7.5.1->pandas_profiling) (4.9.0)\n",
      "Requirement already satisfied: widgetsnbextension~=3.5.0 in /data/nas/workspace/envs/python3.6/site-packages (from ipywidgets>=7.5.1->pandas_profiling) (3.5.1)\n",
      "Requirement already satisfied: nbformat>=4.2.0 in /opt/conda/lib/python3.6/site-packages (from ipywidgets>=7.5.1->pandas_profiling) (4.4.0)\n",
      "Requirement already satisfied: ipython>=4.0.0; python_version >= \"3.3\" in /opt/conda/lib/python3.6/site-packages (from ipywidgets>=7.5.1->pandas_profiling) (7.2.0)\n",
      "Requirement already satisfied: jupyterlab-widgets>=1.0.0; python_version >= \"3.6\" in /data/nas/workspace/envs/python3.6/site-packages (from ipywidgets>=7.5.1->pandas_profiling) (1.0.0)\n",
      "Requirement already satisfied: traitlets>=4.3.1 in /opt/conda/lib/python3.6/site-packages (from ipywidgets>=7.5.1->pandas_profiling) (4.3.3)\n",
      "Requirement already satisfied: networkx>=2.4 in /data/nas/workspace/envs/python3.6/site-packages (from visions[type_image_path]==0.6.0->pandas_profiling) (2.5)\n",
      "Requirement already satisfied: imagehash; extra == \"type_image_path\" in /data/nas/workspace/envs/python3.6/site-packages (from visions[type_image_path]==0.6.0->pandas_profiling) (4.2.0)\n",
      "Requirement already satisfied: urllib3<1.27,>=1.21.1 in /opt/conda/lib/python3.6/site-packages (from requests>=2.24.0->pandas_profiling) (1.22)\n",
      "Requirement already satisfied: idna<3,>=2.5 in /opt/conda/lib/python3.6/site-packages (from requests>=2.24.0->pandas_profiling) (2.6)\n",
      "Requirement already satisfied: certifi>=2017.4.17 in /opt/conda/lib/python3.6/site-packages (from requests>=2.24.0->pandas_profiling) (2017.11.5)\n",
      "Requirement already satisfied: chardet<5,>=3.0.2 in /opt/conda/lib/python3.6/site-packages (from requests>=2.24.0->pandas_profiling) (3.0.4)\n",
      "Requirement already satisfied: pyyaml in /opt/conda/lib/python3.6/site-packages (from confuse>=1.0.0->pandas_profiling) (5.1.2)\n",
      "Requirement already satisfied: pytz>=2017.2 in /opt/conda/lib/python3.6/site-packages (from pandas!=1.0.0,!=1.0.1,!=1.0.2,!=1.1.0,>=0.25.3->pandas_profiling) (2019.3)\n",
      "Requirement already satisfied: MarkupSafe>=0.23 in /opt/conda/lib/python3.6/site-packages (from jinja2>=2.11.1->pandas_profiling) (1.1.1)\n",
      "Requirement already satisfied: setuptools in /data/nas/workspace/envs/python3.6/site-packages (from kiwisolver>=1.0.1->matplotlib>=3.2.0->pandas_profiling) (54.1.2)\n",
      "Requirement already satisfied: six in /opt/conda/lib/python3.6/site-packages (from cycler>=0.10->matplotlib>=3.2.0->pandas_profiling) (1.11.0)\n",
      "Requirement already satisfied: jupyter-client in /opt/conda/lib/python3.6/site-packages (from ipykernel>=4.5.1->ipywidgets>=7.5.1->pandas_profiling) (5.3.4)\n",
      "Requirement already satisfied: tornado>=4.0 in /opt/conda/lib/python3.6/site-packages (from ipykernel>=4.5.1->ipywidgets>=7.5.1->pandas_profiling) (5.1.1)\n",
      "Requirement already satisfied: notebook>=4.4.1 in /opt/conda/lib/python3.6/site-packages (from widgetsnbextension~=3.5.0->ipywidgets>=7.5.1->pandas_profiling) (5.7.8)\n",
      "Requirement already satisfied: ipython-genutils in /opt/conda/lib/python3.6/site-packages (from nbformat>=4.2.0->ipywidgets>=7.5.1->pandas_profiling) (0.2.0)\n",
      "Requirement already satisfied: jupyter-core in /opt/conda/lib/python3.6/site-packages (from nbformat>=4.2.0->ipywidgets>=7.5.1->pandas_profiling) (4.6.1)\n",
      "Requirement already satisfied: jsonschema!=2.5.0,>=2.4 in /opt/conda/lib/python3.6/site-packages (from nbformat>=4.2.0->ipywidgets>=7.5.1->pandas_profiling) (3.2.0)\n",
      "Requirement already satisfied: pickleshare in /opt/conda/lib/python3.6/site-packages (from ipython>=4.0.0; python_version >= \"3.3\"->ipywidgets>=7.5.1->pandas_profiling) (0.7.5)\n",
      "Requirement already satisfied: prompt-toolkit<2.1.0,>=2.0.0 in /opt/conda/lib/python3.6/site-packages (from ipython>=4.0.0; python_version >= \"3.3\"->ipywidgets>=7.5.1->pandas_profiling) (2.0.10)\n",
      "Requirement already satisfied: backcall in /opt/conda/lib/python3.6/site-packages (from ipython>=4.0.0; python_version >= \"3.3\"->ipywidgets>=7.5.1->pandas_profiling) (0.1.0)\n",
      "Requirement already satisfied: decorator in /opt/conda/lib/python3.6/site-packages (from ipython>=4.0.0; python_version >= \"3.3\"->ipywidgets>=7.5.1->pandas_profiling) (4.4.1)\n",
      "Requirement already satisfied: pygments in /opt/conda/lib/python3.6/site-packages (from ipython>=4.0.0; python_version >= \"3.3\"->ipywidgets>=7.5.1->pandas_profiling) (2.4.2)\n",
      "Requirement already satisfied: pexpect; sys_platform != \"win32\" in /opt/conda/lib/python3.6/site-packages (from ipython>=4.0.0; python_version >= \"3.3\"->ipywidgets>=7.5.1->pandas_profiling) (4.7.0)\n",
      "Requirement already satisfied: jedi>=0.10 in /opt/conda/lib/python3.6/site-packages (from ipython>=4.0.0; python_version >= \"3.3\"->ipywidgets>=7.5.1->pandas_profiling) (0.15.1)\n",
      "Requirement already satisfied: PyWavelets in /data/nas/workspace/envs/python3.6/site-packages (from imagehash; extra == \"type_image_path\"->visions[type_image_path]==0.6.0->pandas_profiling) (1.1.1)\n",
      "Requirement already satisfied: pyzmq>=13 in /opt/conda/lib/python3.6/site-packages (from jupyter-client->ipykernel>=4.5.1->ipywidgets>=7.5.1->pandas_profiling) (18.1.1)\n",
      "Requirement already satisfied: terminado>=0.8.1 in /opt/conda/lib/python3.6/site-packages (from notebook>=4.4.1->widgetsnbextension~=3.5.0->ipywidgets>=7.5.1->pandas_profiling) (0.8.3)\n",
      "Requirement already satisfied: prometheus-client in /opt/conda/lib/python3.6/site-packages (from notebook>=4.4.1->widgetsnbextension~=3.5.0->ipywidgets>=7.5.1->pandas_profiling) (0.7.1)\n",
      "Requirement already satisfied: Send2Trash in /opt/conda/lib/python3.6/site-packages (from notebook>=4.4.1->widgetsnbextension~=3.5.0->ipywidgets>=7.5.1->pandas_profiling) (1.5.0)\n",
      "Requirement already satisfied: nbconvert in /opt/conda/lib/python3.6/site-packages (from notebook>=4.4.1->widgetsnbextension~=3.5.0->ipywidgets>=7.5.1->pandas_profiling) (5.6.1)\n",
      "Requirement already satisfied: pyrsistent>=0.14.0 in /opt/conda/lib/python3.6/site-packages (from jsonschema!=2.5.0,>=2.4->nbformat>=4.2.0->ipywidgets>=7.5.1->pandas_profiling) (0.15.5)\n",
      "Requirement already satisfied: importlib-metadata; python_version < \"3.8\" in /opt/conda/lib/python3.6/site-packages (from jsonschema!=2.5.0,>=2.4->nbformat>=4.2.0->ipywidgets>=7.5.1->pandas_profiling) (0.23)\n",
      "Requirement already satisfied: wcwidth in /opt/conda/lib/python3.6/site-packages (from prompt-toolkit<2.1.0,>=2.0.0->ipython>=4.0.0; python_version >= \"3.3\"->ipywidgets>=7.5.1->pandas_profiling) (0.1.7)\n",
      "Requirement already satisfied: ptyprocess>=0.5 in /opt/conda/lib/python3.6/site-packages (from pexpect; sys_platform != \"win32\"->ipython>=4.0.0; python_version >= \"3.3\"->ipywidgets>=7.5.1->pandas_profiling) (0.6.0)\n",
      "Requirement already satisfied: parso>=0.5.0 in /opt/conda/lib/python3.6/site-packages (from jedi>=0.10->ipython>=4.0.0; python_version >= \"3.3\"->ipywidgets>=7.5.1->pandas_profiling) (0.5.1)\n",
      "Requirement already satisfied: defusedxml in /opt/conda/lib/python3.6/site-packages (from nbconvert->notebook>=4.4.1->widgetsnbextension~=3.5.0->ipywidgets>=7.5.1->pandas_profiling) (0.6.0)\n",
      "Requirement already satisfied: testpath in /opt/conda/lib/python3.6/site-packages (from nbconvert->notebook>=4.4.1->widgetsnbextension~=3.5.0->ipywidgets>=7.5.1->pandas_profiling) (0.4.4)\n",
      "Requirement already satisfied: bleach in /opt/conda/lib/python3.6/site-packages (from nbconvert->notebook>=4.4.1->widgetsnbextension~=3.5.0->ipywidgets>=7.5.1->pandas_profiling) (3.1.0)\n",
      "Requirement already satisfied: entrypoints>=0.2.2 in /opt/conda/lib/python3.6/site-packages (from nbconvert->notebook>=4.4.1->widgetsnbextension~=3.5.0->ipywidgets>=7.5.1->pandas_profiling) (0.3)\n",
      "Requirement already satisfied: pandocfilters>=1.4.1 in /opt/conda/lib/python3.6/site-packages (from nbconvert->notebook>=4.4.1->widgetsnbextension~=3.5.0->ipywidgets>=7.5.1->pandas_profiling) (1.4.2)\n",
      "Requirement already satisfied: mistune<2,>=0.8.1 in /opt/conda/lib/python3.6/site-packages (from nbconvert->notebook>=4.4.1->widgetsnbextension~=3.5.0->ipywidgets>=7.5.1->pandas_profiling) (0.8.4)\n",
      "Requirement already satisfied: zipp>=0.5 in /opt/conda/lib/python3.6/site-packages (from importlib-metadata; python_version < \"3.8\"->jsonschema!=2.5.0,>=2.4->nbformat>=4.2.0->ipywidgets>=7.5.1->pandas_profiling) (0.6.0)\n",
      "Requirement already satisfied: webencodings in /opt/conda/lib/python3.6/site-packages (from bleach->nbconvert->notebook>=4.4.1->widgetsnbextension~=3.5.0->ipywidgets>=7.5.1->pandas_profiling) (0.5.1)\n",
      "Requirement already satisfied: more-itertools in /opt/conda/lib/python3.6/site-packages (from zipp>=0.5->importlib-metadata; python_version < \"3.8\"->jsonschema!=2.5.0,>=2.4->nbformat>=4.2.0->ipywidgets>=7.5.1->pandas_profiling) (7.2.0)\n",
      "\u001b[33mWARNING: You are using pip version 19.3.1; however, version 21.0.1 is available.\n",
      "You should consider upgrading via the 'pip install --upgrade pip' command.\u001b[0m\n"
     ]
    }
   ],
   "source": [
    "!pip3 install pandas_profiling --user"
   ]
  },
  {
   "cell_type": "code",
   "execution_count": 10,
   "metadata": {
    "uuid": "d1511e00-824c-4a20-b481-2ca34070392a"
   },
   "outputs": [],
   "source": [
    "#coding:utf-8\n",
    "#导入warnings包，利用过滤器来实现忽略警告语句。\n",
    "import warnings\n",
    "warnings.filterwarnings('ignore')\n",
    "import missingno as msno\n",
    "import pandas as pd\n",
    "from pandas import DataFrame\n",
    "import matplotlib.pyplot as plt \n",
    "import seaborn as sns\n",
    "import numpy as np"
   ]
  },
  {
   "cell_type": "code",
   "execution_count": 19,
   "metadata": {
    "uuid": "522529f6-f0b7-462f-acda-17e05a1d7338"
   },
   "outputs": [],
   "source": [
    "pd.options.display.max_colwidth = 100"
   ]
  },
  {
   "cell_type": "code",
   "execution_count": 11,
   "metadata": {
    "uuid": "50df4603-a655-48c5-bda5-1dfed05ab605"
   },
   "outputs": [],
   "source": [
    "import pandas as pd\n",
    "from pandas import DataFrame, Series\n",
    "import matplotlib.pyplot as plt\n",
    "Train_data = pd.read_csv('./train.csv')"
   ]
  },
  {
   "cell_type": "code",
   "execution_count": 12,
   "metadata": {
    "uuid": "bd0a27f5-314e-4d9c-8030-711f944dca4e"
   },
   "outputs": [],
   "source": [
    "import pandas as pd\n",
    "from pandas import DataFrame, Series\n",
    "import matplotlib.pyplot as plt \n",
    "Test_data = pd.read_csv('./testA.csv')"
   ]
  },
  {
   "cell_type": "code",
   "execution_count": 13,
   "metadata": {
    "uuid": "9a16a4c6-7e48-49ea-96a3-48a9a98919fb"
   },
   "outputs": [
    {
     "data": {
      "text/plain": [
       "(100000, 3)"
      ]
     },
     "execution_count": 13,
     "metadata": {},
     "output_type": "execute_result"
    }
   ],
   "source": [
    "Train_data.shape"
   ]
  },
  {
   "cell_type": "code",
   "execution_count": 20,
   "metadata": {
    "uuid": "dc858850-9ad2-4c92-8eea-b1710e77e612"
   },
   "outputs": [
    {
     "data": {
      "text/html": [
       "<div>\n",
       "<style scoped>\n",
       "    .dataframe tbody tr th:only-of-type {\n",
       "        vertical-align: middle;\n",
       "    }\n",
       "\n",
       "    .dataframe tbody tr th {\n",
       "        vertical-align: top;\n",
       "    }\n",
       "\n",
       "    .dataframe thead th {\n",
       "        text-align: right;\n",
       "    }\n",
       "</style>\n",
       "<table border=\"1\" class=\"dataframe\">\n",
       "  <thead>\n",
       "    <tr style=\"text-align: right;\">\n",
       "      <th></th>\n",
       "      <th>id</th>\n",
       "      <th>heartbeat_signals</th>\n",
       "      <th>label</th>\n",
       "    </tr>\n",
       "  </thead>\n",
       "  <tbody>\n",
       "    <tr>\n",
       "      <th>0</th>\n",
       "      <td>0</td>\n",
       "      <td>0.9912297987616655,0.9435330436439665,0.7646772997256593,0.6185708990212999,0.3796321642826237,0.19082233510621885,0.040237131594430715,0.02599520771717858,0.03170886048677242,0.06552357497104398,0.12553088566683082,0.14674736762087337,0.16765635...</td>\n",
       "      <td>0.0</td>\n",
       "    </tr>\n",
       "    <tr>\n",
       "      <th>1</th>\n",
       "      <td>1</td>\n",
       "      <td>0.9714822034884503,0.9289687459588268,0.5729328050711678,0.1784566262750076,0.1229615224365985,0.13236021729815928,0.09439236984499814,0.08957535516351411,0.030480606866741047,0.04049936195430977,0.02039178866617264,0.027965007816101565,0.0354986...</td>\n",
       "      <td>0.0</td>\n",
       "    </tr>\n",
       "    <tr>\n",
       "      <th>2</th>\n",
       "      <td>2</td>\n",
       "      <td>1.0,0.9591487564065292,0.7013782792997189,0.23177753487886463,0.0,0.08069805776387916,0.12837603937503544,0.18744837555079963,0.28082571505275855,0.3282610568488903,0.32046267784302424,0.3224162366449385,0.3243671537022964,0.3224162366449385,0.33...</td>\n",
       "      <td>2.0</td>\n",
       "    </tr>\n",
       "    <tr>\n",
       "      <th>3</th>\n",
       "      <td>3</td>\n",
       "      <td>0.9757952826275774,0.9340884687738161,0.6596366611990001,0.2499208267606008,0.23711575621286213,0.28144491730834825,0.2499208267606008,0.2499208267606008,0.24139674778512604,0.2306703464848836,0.2241960118573745,0.228515464684134,0.23282202359265...</td>\n",
       "      <td>0.0</td>\n",
       "    </tr>\n",
       "    <tr>\n",
       "      <th>4</th>\n",
       "      <td>4</td>\n",
       "      <td>0.0,0.055816398940721094,0.26129357194994196,0.35984696254197834,0.43314263962884686,0.45369772898632504,0.49900406742109477,0.5427959768500487,0.6169044962835193,0.6766958323316207,0.7378818829055369,0.7554731067740066,0.7728500804863674,0.77417...</td>\n",
       "      <td>2.0</td>\n",
       "    </tr>\n",
       "  </tbody>\n",
       "</table>\n",
       "</div>"
      ],
      "text/plain": [
       "   id  \\\n",
       "0   0   \n",
       "1   1   \n",
       "2   2   \n",
       "3   3   \n",
       "4   4   \n",
       "\n",
       "                                                                                                                                                                                                                                           heartbeat_signals  \\\n",
       "0  0.9912297987616655,0.9435330436439665,0.7646772997256593,0.6185708990212999,0.3796321642826237,0.19082233510621885,0.040237131594430715,0.02599520771717858,0.03170886048677242,0.06552357497104398,0.12553088566683082,0.14674736762087337,0.16765635...   \n",
       "1  0.9714822034884503,0.9289687459588268,0.5729328050711678,0.1784566262750076,0.1229615224365985,0.13236021729815928,0.09439236984499814,0.08957535516351411,0.030480606866741047,0.04049936195430977,0.02039178866617264,0.027965007816101565,0.0354986...   \n",
       "2  1.0,0.9591487564065292,0.7013782792997189,0.23177753487886463,0.0,0.08069805776387916,0.12837603937503544,0.18744837555079963,0.28082571505275855,0.3282610568488903,0.32046267784302424,0.3224162366449385,0.3243671537022964,0.3224162366449385,0.33...   \n",
       "3  0.9757952826275774,0.9340884687738161,0.6596366611990001,0.2499208267606008,0.23711575621286213,0.28144491730834825,0.2499208267606008,0.2499208267606008,0.24139674778512604,0.2306703464848836,0.2241960118573745,0.228515464684134,0.23282202359265...   \n",
       "4  0.0,0.055816398940721094,0.26129357194994196,0.35984696254197834,0.43314263962884686,0.45369772898632504,0.49900406742109477,0.5427959768500487,0.6169044962835193,0.6766958323316207,0.7378818829055369,0.7554731067740066,0.7728500804863674,0.77417...   \n",
       "\n",
       "   label  \n",
       "0    0.0  \n",
       "1    0.0  \n",
       "2    2.0  \n",
       "3    0.0  \n",
       "4    2.0  "
      ]
     },
     "execution_count": 20,
     "metadata": {},
     "output_type": "execute_result"
    }
   ],
   "source": [
    "Train_data.head()"
   ]
  },
  {
   "cell_type": "code",
   "execution_count": 22,
   "metadata": {
    "uuid": "41f8ae06-5c29-4eb5-a1c1-299b9e2bad0a"
   },
   "outputs": [
    {
     "data": {
      "text/html": [
       "<div>\n",
       "<style scoped>\n",
       "    .dataframe tbody tr th:only-of-type {\n",
       "        vertical-align: middle;\n",
       "    }\n",
       "\n",
       "    .dataframe tbody tr th {\n",
       "        vertical-align: top;\n",
       "    }\n",
       "\n",
       "    .dataframe thead th {\n",
       "        text-align: right;\n",
       "    }\n",
       "</style>\n",
       "<table border=\"1\" class=\"dataframe\">\n",
       "  <thead>\n",
       "    <tr style=\"text-align: right;\">\n",
       "      <th></th>\n",
       "      <th>id</th>\n",
       "      <th>heartbeat_signals</th>\n",
       "      <th>label</th>\n",
       "    </tr>\n",
       "  </thead>\n",
       "  <tbody>\n",
       "    <tr>\n",
       "      <th>0</th>\n",
       "      <td>0</td>\n",
       "      <td>0.9912297987616655,0.9435330436439665,0.7646772997256593,0.6185708990212999,0.3796321642826237,0.19082233510621885,0.040237131594430715,0.02599520771717858,0.03170886048677242,0.06552357497104398,0.12553088566683082,0.14674736762087337,0.16765635...</td>\n",
       "      <td>0.0</td>\n",
       "    </tr>\n",
       "    <tr>\n",
       "      <th>1</th>\n",
       "      <td>1</td>\n",
       "      <td>0.9714822034884503,0.9289687459588268,0.5729328050711678,0.1784566262750076,0.1229615224365985,0.13236021729815928,0.09439236984499814,0.08957535516351411,0.030480606866741047,0.04049936195430977,0.02039178866617264,0.027965007816101565,0.0354986...</td>\n",
       "      <td>0.0</td>\n",
       "    </tr>\n",
       "    <tr>\n",
       "      <th>2</th>\n",
       "      <td>2</td>\n",
       "      <td>1.0,0.9591487564065292,0.7013782792997189,0.23177753487886463,0.0,0.08069805776387916,0.12837603937503544,0.18744837555079963,0.28082571505275855,0.3282610568488903,0.32046267784302424,0.3224162366449385,0.3243671537022964,0.3224162366449385,0.33...</td>\n",
       "      <td>2.0</td>\n",
       "    </tr>\n",
       "    <tr>\n",
       "      <th>3</th>\n",
       "      <td>3</td>\n",
       "      <td>0.9757952826275774,0.9340884687738161,0.6596366611990001,0.2499208267606008,0.23711575621286213,0.28144491730834825,0.2499208267606008,0.2499208267606008,0.24139674778512604,0.2306703464848836,0.2241960118573745,0.228515464684134,0.23282202359265...</td>\n",
       "      <td>0.0</td>\n",
       "    </tr>\n",
       "    <tr>\n",
       "      <th>4</th>\n",
       "      <td>4</td>\n",
       "      <td>0.0,0.055816398940721094,0.26129357194994196,0.35984696254197834,0.43314263962884686,0.45369772898632504,0.49900406742109477,0.5427959768500487,0.6169044962835193,0.6766958323316207,0.7378818829055369,0.7554731067740066,0.7728500804863674,0.77417...</td>\n",
       "      <td>2.0</td>\n",
       "    </tr>\n",
       "    <tr>\n",
       "      <th>99995</th>\n",
       "      <td>99995</td>\n",
       "      <td>1.0,0.677705342021188,0.22239242747868546,0.2571578307224994,0.20469042415279454,0.05466497618736314,0.026152286890497062,0.11818142707296006,0.24483757081121627,0.3289485158861968,0.3612662393002452,0.3692338152135465,0.3771576301414996,0.390640...</td>\n",
       "      <td>0.0</td>\n",
       "    </tr>\n",
       "    <tr>\n",
       "      <th>99996</th>\n",
       "      <td>99996</td>\n",
       "      <td>0.9268571578157265,0.9063471198026871,0.6369932212888393,0.41503751002775946,0.37474480119929776,0.3825812845814957,0.35894293360916163,0.34135861850914284,0.3365254578264915,0.3170292884548231,0.29228262540259375,0.2864468160019497,0.28058730440...</td>\n",
       "      <td>2.0</td>\n",
       "    </tr>\n",
       "    <tr>\n",
       "      <th>99997</th>\n",
       "      <td>99997</td>\n",
       "      <td>0.9258351628306013,0.5873839035878395,0.6332261741951388,0.6323533645350808,0.6392827243034813,0.6142923239940205,0.5991551019747257,0.5176324324889339,0.4038033525475481,0.2531748788594435,0.013519441127279834,0.025638558505711485,0.037052346339...</td>\n",
       "      <td>3.0</td>\n",
       "    </tr>\n",
       "    <tr>\n",
       "      <th>99998</th>\n",
       "      <td>99998</td>\n",
       "      <td>1.0,0.9947621698382489,0.8297017704865509,0.45819277171637834,0.26416169623741237,0.24022845026183584,0.21376575735540573,0.18929103849637752,0.20381573166587716,0.21086610220048516,0.190781903999013,0.18315266786292242,0.17548283434154238,0.1719...</td>\n",
       "      <td>2.0</td>\n",
       "    </tr>\n",
       "    <tr>\n",
       "      <th>99999</th>\n",
       "      <td>99999</td>\n",
       "      <td>0.9259994004527861,0.916476635326053,0.4042900774399834,0.0,0.2630344094167657,0.3854310437765884,0.3610665021846972,0.33270794046870034,0.33985000288462475,0.3504972538285509,0.34872815423107756,0.3469568826178959,0.3451834336490557,0.3416300161...</td>\n",
       "      <td>0.0</td>\n",
       "    </tr>\n",
       "  </tbody>\n",
       "</table>\n",
       "</div>"
      ],
      "text/plain": [
       "          id  \\\n",
       "0          0   \n",
       "1          1   \n",
       "2          2   \n",
       "3          3   \n",
       "4          4   \n",
       "99995  99995   \n",
       "99996  99996   \n",
       "99997  99997   \n",
       "99998  99998   \n",
       "99999  99999   \n",
       "\n",
       "                                                                                                                                                                                                                                               heartbeat_signals  \\\n",
       "0      0.9912297987616655,0.9435330436439665,0.7646772997256593,0.6185708990212999,0.3796321642826237,0.19082233510621885,0.040237131594430715,0.02599520771717858,0.03170886048677242,0.06552357497104398,0.12553088566683082,0.14674736762087337,0.16765635...   \n",
       "1      0.9714822034884503,0.9289687459588268,0.5729328050711678,0.1784566262750076,0.1229615224365985,0.13236021729815928,0.09439236984499814,0.08957535516351411,0.030480606866741047,0.04049936195430977,0.02039178866617264,0.027965007816101565,0.0354986...   \n",
       "2      1.0,0.9591487564065292,0.7013782792997189,0.23177753487886463,0.0,0.08069805776387916,0.12837603937503544,0.18744837555079963,0.28082571505275855,0.3282610568488903,0.32046267784302424,0.3224162366449385,0.3243671537022964,0.3224162366449385,0.33...   \n",
       "3      0.9757952826275774,0.9340884687738161,0.6596366611990001,0.2499208267606008,0.23711575621286213,0.28144491730834825,0.2499208267606008,0.2499208267606008,0.24139674778512604,0.2306703464848836,0.2241960118573745,0.228515464684134,0.23282202359265...   \n",
       "4      0.0,0.055816398940721094,0.26129357194994196,0.35984696254197834,0.43314263962884686,0.45369772898632504,0.49900406742109477,0.5427959768500487,0.6169044962835193,0.6766958323316207,0.7378818829055369,0.7554731067740066,0.7728500804863674,0.77417...   \n",
       "99995  1.0,0.677705342021188,0.22239242747868546,0.2571578307224994,0.20469042415279454,0.05466497618736314,0.026152286890497062,0.11818142707296006,0.24483757081121627,0.3289485158861968,0.3612662393002452,0.3692338152135465,0.3771576301414996,0.390640...   \n",
       "99996  0.9268571578157265,0.9063471198026871,0.6369932212888393,0.41503751002775946,0.37474480119929776,0.3825812845814957,0.35894293360916163,0.34135861850914284,0.3365254578264915,0.3170292884548231,0.29228262540259375,0.2864468160019497,0.28058730440...   \n",
       "99997  0.9258351628306013,0.5873839035878395,0.6332261741951388,0.6323533645350808,0.6392827243034813,0.6142923239940205,0.5991551019747257,0.5176324324889339,0.4038033525475481,0.2531748788594435,0.013519441127279834,0.025638558505711485,0.037052346339...   \n",
       "99998  1.0,0.9947621698382489,0.8297017704865509,0.45819277171637834,0.26416169623741237,0.24022845026183584,0.21376575735540573,0.18929103849637752,0.20381573166587716,0.21086610220048516,0.190781903999013,0.18315266786292242,0.17548283434154238,0.1719...   \n",
       "99999  0.9259994004527861,0.916476635326053,0.4042900774399834,0.0,0.2630344094167657,0.3854310437765884,0.3610665021846972,0.33270794046870034,0.33985000288462475,0.3504972538285509,0.34872815423107756,0.3469568826178959,0.3451834336490557,0.3416300161...   \n",
       "\n",
       "       label  \n",
       "0        0.0  \n",
       "1        0.0  \n",
       "2        2.0  \n",
       "3        0.0  \n",
       "4        2.0  \n",
       "99995    0.0  \n",
       "99996    2.0  \n",
       "99997    3.0  \n",
       "99998    2.0  \n",
       "99999    0.0  "
      ]
     },
     "execution_count": 22,
     "metadata": {},
     "output_type": "execute_result"
    }
   ],
   "source": [
    "\n",
    "Train_data.head().append(Train_data.tail())"
   ]
  },
  {
   "cell_type": "code",
   "execution_count": 23,
   "metadata": {
    "uuid": "b86c7c4e-c099-4e9f-bd75-adebdad89304"
   },
   "outputs": [
    {
     "data": {
      "text/html": [
       "<div>\n",
       "<style scoped>\n",
       "    .dataframe tbody tr th:only-of-type {\n",
       "        vertical-align: middle;\n",
       "    }\n",
       "\n",
       "    .dataframe tbody tr th {\n",
       "        vertical-align: top;\n",
       "    }\n",
       "\n",
       "    .dataframe thead th {\n",
       "        text-align: right;\n",
       "    }\n",
       "</style>\n",
       "<table border=\"1\" class=\"dataframe\">\n",
       "  <thead>\n",
       "    <tr style=\"text-align: right;\">\n",
       "      <th></th>\n",
       "      <th>id</th>\n",
       "      <th>label</th>\n",
       "    </tr>\n",
       "  </thead>\n",
       "  <tbody>\n",
       "    <tr>\n",
       "      <th>count</th>\n",
       "      <td>100000.000000</td>\n",
       "      <td>100000.000000</td>\n",
       "    </tr>\n",
       "    <tr>\n",
       "      <th>mean</th>\n",
       "      <td>49999.500000</td>\n",
       "      <td>0.856960</td>\n",
       "    </tr>\n",
       "    <tr>\n",
       "      <th>std</th>\n",
       "      <td>28867.657797</td>\n",
       "      <td>1.217084</td>\n",
       "    </tr>\n",
       "    <tr>\n",
       "      <th>min</th>\n",
       "      <td>0.000000</td>\n",
       "      <td>0.000000</td>\n",
       "    </tr>\n",
       "    <tr>\n",
       "      <th>25%</th>\n",
       "      <td>24999.750000</td>\n",
       "      <td>0.000000</td>\n",
       "    </tr>\n",
       "    <tr>\n",
       "      <th>50%</th>\n",
       "      <td>49999.500000</td>\n",
       "      <td>0.000000</td>\n",
       "    </tr>\n",
       "    <tr>\n",
       "      <th>75%</th>\n",
       "      <td>74999.250000</td>\n",
       "      <td>2.000000</td>\n",
       "    </tr>\n",
       "    <tr>\n",
       "      <th>max</th>\n",
       "      <td>99999.000000</td>\n",
       "      <td>3.000000</td>\n",
       "    </tr>\n",
       "  </tbody>\n",
       "</table>\n",
       "</div>"
      ],
      "text/plain": [
       "                  id          label\n",
       "count  100000.000000  100000.000000\n",
       "mean    49999.500000       0.856960\n",
       "std     28867.657797       1.217084\n",
       "min         0.000000       0.000000\n",
       "25%     24999.750000       0.000000\n",
       "50%     49999.500000       0.000000\n",
       "75%     74999.250000       2.000000\n",
       "max     99999.000000       3.000000"
      ]
     },
     "execution_count": 23,
     "metadata": {},
     "output_type": "execute_result"
    }
   ],
   "source": [
    "Train_data.describe()"
   ]
  },
  {
   "cell_type": "code",
   "execution_count": 13,
   "metadata": {
    "uuid": "33682469-96c5-4ba5-8644-41b999c38904"
   },
   "outputs": [
    {
     "name": "stdout",
     "output_type": "stream",
     "text": [
      "<class 'pandas.core.frame.DataFrame'>\n",
      "RangeIndex: 100000 entries, 0 to 99999\n",
      "Data columns (total 3 columns):\n",
      " #   Column             Non-Null Count   Dtype  \n",
      "---  ------             --------------   -----  \n",
      " 0   id                 100000 non-null  int64  \n",
      " 1   heartbeat_signals  100000 non-null  object \n",
      " 2   label              100000 non-null  float64\n",
      "dtypes: float64(1), int64(1), object(1)\n",
      "memory usage: 2.3+ MB\n"
     ]
    }
   ],
   "source": [
    "Train_data.info()"
   ]
  },
  {
   "cell_type": "code",
   "execution_count": 16,
   "metadata": {
    "uuid": "76118087-422e-42b6-90cf-f4651a0ef610"
   },
   "outputs": [
    {
     "data": {
      "text/plain": [
       "id                   0\n",
       "heartbeat_signals    0\n",
       "label                0\n",
       "dtype: int64"
      ]
     },
     "execution_count": 16,
     "metadata": {},
     "output_type": "execute_result"
    }
   ],
   "source": [
    "Train_data.isnull().sum()"
   ]
  },
  {
   "cell_type": "code",
   "execution_count": 24,
   "metadata": {
    "uuid": "d967bf5d-d22c-463a-a803-283c0a614667"
   },
   "outputs": [
    {
     "data": {
      "text/plain": [
       "id                   100000\n",
       "heartbeat_signals    100000\n",
       "label                100000\n",
       "dtype: int64"
      ]
     },
     "execution_count": 24,
     "metadata": {},
     "output_type": "execute_result"
    }
   ],
   "source": [
    "Train_data.count()"
   ]
  },
  {
   "cell_type": "code",
   "execution_count": 11,
   "metadata": {
    "uuid": "e60ef27c-a625-48e8-b97b-570ee6884430"
   },
   "outputs": [
    {
     "data": {
      "text/plain": [
       "(20000, 2)"
      ]
     },
     "execution_count": 11,
     "metadata": {},
     "output_type": "execute_result"
    }
   ],
   "source": [
    "Test_data.shape"
   ]
  },
  {
   "cell_type": "code",
   "execution_count": 8,
   "metadata": {
    "uuid": "8c78d020-c868-4565-88d5-589df07f92f6"
   },
   "outputs": [
    {
     "data": {
      "text/html": [
       "<div>\n",
       "<style scoped>\n",
       "    .dataframe tbody tr th:only-of-type {\n",
       "        vertical-align: middle;\n",
       "    }\n",
       "\n",
       "    .dataframe tbody tr th {\n",
       "        vertical-align: top;\n",
       "    }\n",
       "\n",
       "    .dataframe thead th {\n",
       "        text-align: right;\n",
       "    }\n",
       "</style>\n",
       "<table border=\"1\" class=\"dataframe\">\n",
       "  <thead>\n",
       "    <tr style=\"text-align: right;\">\n",
       "      <th></th>\n",
       "      <th>id</th>\n",
       "      <th>heartbeat_signals</th>\n",
       "    </tr>\n",
       "  </thead>\n",
       "  <tbody>\n",
       "    <tr>\n",
       "      <th>0</th>\n",
       "      <td>100000</td>\n",
       "      <td>0.9915713654170097,1.0,0.6318163407681274,0.13...</td>\n",
       "    </tr>\n",
       "    <tr>\n",
       "      <th>1</th>\n",
       "      <td>100001</td>\n",
       "      <td>0.6075533139615096,0.5417083883163654,0.340694...</td>\n",
       "    </tr>\n",
       "    <tr>\n",
       "      <th>2</th>\n",
       "      <td>100002</td>\n",
       "      <td>0.9752726292239277,0.6710965234906665,0.686758...</td>\n",
       "    </tr>\n",
       "    <tr>\n",
       "      <th>3</th>\n",
       "      <td>100003</td>\n",
       "      <td>0.9956348033996116,0.9170249621481004,0.521096...</td>\n",
       "    </tr>\n",
       "    <tr>\n",
       "      <th>4</th>\n",
       "      <td>100004</td>\n",
       "      <td>1.0,0.8879490481178918,0.745564725322326,0.531...</td>\n",
       "    </tr>\n",
       "    <tr>\n",
       "      <th>19995</th>\n",
       "      <td>119995</td>\n",
       "      <td>1.0,0.8330283177934747,0.6340472606311671,0.63...</td>\n",
       "    </tr>\n",
       "    <tr>\n",
       "      <th>19996</th>\n",
       "      <td>119996</td>\n",
       "      <td>1.0,0.8259705825857048,0.4521053488322387,0.08...</td>\n",
       "    </tr>\n",
       "    <tr>\n",
       "      <th>19997</th>\n",
       "      <td>119997</td>\n",
       "      <td>0.951744840752379,0.9162611283848351,0.6675251...</td>\n",
       "    </tr>\n",
       "    <tr>\n",
       "      <th>19998</th>\n",
       "      <td>119998</td>\n",
       "      <td>0.9276692903808186,0.6771898159607004,0.242906...</td>\n",
       "    </tr>\n",
       "    <tr>\n",
       "      <th>19999</th>\n",
       "      <td>119999</td>\n",
       "      <td>0.6653212231837624,0.527064114047737,0.5166625...</td>\n",
       "    </tr>\n",
       "  </tbody>\n",
       "</table>\n",
       "</div>"
      ],
      "text/plain": [
       "           id                                  heartbeat_signals\n",
       "0      100000  0.9915713654170097,1.0,0.6318163407681274,0.13...\n",
       "1      100001  0.6075533139615096,0.5417083883163654,0.340694...\n",
       "2      100002  0.9752726292239277,0.6710965234906665,0.686758...\n",
       "3      100003  0.9956348033996116,0.9170249621481004,0.521096...\n",
       "4      100004  1.0,0.8879490481178918,0.745564725322326,0.531...\n",
       "19995  119995  1.0,0.8330283177934747,0.6340472606311671,0.63...\n",
       "19996  119996  1.0,0.8259705825857048,0.4521053488322387,0.08...\n",
       "19997  119997  0.951744840752379,0.9162611283848351,0.6675251...\n",
       "19998  119998  0.9276692903808186,0.6771898159607004,0.242906...\n",
       "19999  119999  0.6653212231837624,0.527064114047737,0.5166625..."
      ]
     },
     "execution_count": 8,
     "metadata": {},
     "output_type": "execute_result"
    }
   ],
   "source": [
    "Test_data.head().append(Test_data.tail())"
   ]
  },
  {
   "cell_type": "code",
   "execution_count": 14,
   "metadata": {
    "uuid": "c6f1f0ca-6cb7-4ecd-a94d-4c814d3c79c7"
   },
   "outputs": [
    {
     "data": {
      "text/html": [
       "<div>\n",
       "<style scoped>\n",
       "    .dataframe tbody tr th:only-of-type {\n",
       "        vertical-align: middle;\n",
       "    }\n",
       "\n",
       "    .dataframe tbody tr th {\n",
       "        vertical-align: top;\n",
       "    }\n",
       "\n",
       "    .dataframe thead th {\n",
       "        text-align: right;\n",
       "    }\n",
       "</style>\n",
       "<table border=\"1\" class=\"dataframe\">\n",
       "  <thead>\n",
       "    <tr style=\"text-align: right;\">\n",
       "      <th></th>\n",
       "      <th>id</th>\n",
       "    </tr>\n",
       "  </thead>\n",
       "  <tbody>\n",
       "    <tr>\n",
       "      <th>count</th>\n",
       "      <td>20000.000000</td>\n",
       "    </tr>\n",
       "    <tr>\n",
       "      <th>mean</th>\n",
       "      <td>109999.500000</td>\n",
       "    </tr>\n",
       "    <tr>\n",
       "      <th>std</th>\n",
       "      <td>5773.647028</td>\n",
       "    </tr>\n",
       "    <tr>\n",
       "      <th>min</th>\n",
       "      <td>100000.000000</td>\n",
       "    </tr>\n",
       "    <tr>\n",
       "      <th>25%</th>\n",
       "      <td>104999.750000</td>\n",
       "    </tr>\n",
       "    <tr>\n",
       "      <th>50%</th>\n",
       "      <td>109999.500000</td>\n",
       "    </tr>\n",
       "    <tr>\n",
       "      <th>75%</th>\n",
       "      <td>114999.250000</td>\n",
       "    </tr>\n",
       "    <tr>\n",
       "      <th>max</th>\n",
       "      <td>119999.000000</td>\n",
       "    </tr>\n",
       "  </tbody>\n",
       "</table>\n",
       "</div>"
      ],
      "text/plain": [
       "                  id\n",
       "count   20000.000000\n",
       "mean   109999.500000\n",
       "std      5773.647028\n",
       "min    100000.000000\n",
       "25%    104999.750000\n",
       "50%    109999.500000\n",
       "75%    114999.250000\n",
       "max    119999.000000"
      ]
     },
     "execution_count": 14,
     "metadata": {},
     "output_type": "execute_result"
    }
   ],
   "source": []
  },
  {
   "cell_type": "code",
   "execution_count": 15,
   "metadata": {
    "uuid": "07fdff7e-7418-4fc0-b6e5-186babda1cdf"
   },
   "outputs": [
    {
     "name": "stdout",
     "output_type": "stream",
     "text": [
      "<class 'pandas.core.frame.DataFrame'>\n",
      "RangeIndex: 20000 entries, 0 to 19999\n",
      "Data columns (total 2 columns):\n",
      " #   Column             Non-Null Count  Dtype \n",
      "---  ------             --------------  ----- \n",
      " 0   id                 20000 non-null  int64 \n",
      " 1   heartbeat_signals  20000 non-null  object\n",
      "dtypes: int64(1), object(1)\n",
      "memory usage: 312.6+ KB\n"
     ]
    }
   ],
   "source": [
    "Test_data.info()"
   ]
  },
  {
   "cell_type": "code",
   "execution_count": 17,
   "metadata": {
    "uuid": "2e869055-f810-411a-9f4a-f63ce3333e2e"
   },
   "outputs": [
    {
     "data": {
      "text/plain": [
       "id                   0\n",
       "heartbeat_signals    0\n",
       "dtype: int64"
      ]
     },
     "execution_count": 17,
     "metadata": {},
     "output_type": "execute_result"
    }
   ],
   "source": [
    "Test_data.isnull().sum()"
   ]
  },
  {
   "cell_type": "code",
   "execution_count": 25,
   "metadata": {
    "uuid": "64702748-7213-413f-bc3e-a6d4149d776f"
   },
   "outputs": [
    {
     "data": {
      "text/plain": [
       "0        0.0\n",
       "1        0.0\n",
       "2        2.0\n",
       "3        0.0\n",
       "4        2.0\n",
       "        ... \n",
       "99995    0.0\n",
       "99996    2.0\n",
       "99997    3.0\n",
       "99998    2.0\n",
       "99999    0.0\n",
       "Name: label, Length: 100000, dtype: float64"
      ]
     },
     "execution_count": 25,
     "metadata": {},
     "output_type": "execute_result"
    }
   ],
   "source": [
    "Train_data['label']"
   ]
  },
  {
   "cell_type": "code",
   "execution_count": 26,
   "metadata": {
    "uuid": "9b9317ad-1911-48d2-9cfe-61e4fd632bed"
   },
   "outputs": [
    {
     "data": {
      "text/plain": [
       "0.0    64327\n",
       "3.0    17912\n",
       "2.0    14199\n",
       "1.0     3562\n",
       "Name: label, dtype: int64"
      ]
     },
     "execution_count": 26,
     "metadata": {},
     "output_type": "execute_result"
    }
   ],
   "source": [
    "Train_data['label'].value_counts()"
   ]
  },
  {
   "cell_type": "code",
   "execution_count": 27,
   "metadata": {
    "uuid": "aeb1215c-4a98-44ab-a965-77cb093f4a2e"
   },
   "outputs": [
    {
     "data": {
      "text/plain": [
       "<matplotlib.axes._subplots.AxesSubplot at 0x7fc345db50b8>"
      ]
     },
     "execution_count": 27,
     "metadata": {},
     "output_type": "execute_result"
    },
    {
     "data": {
      "image/png": "[encoded data removed]",
      "text/plain": [
       "<Figure size 432x288 with 1 Axes>"
      ]
     },
     "metadata": {
      "needs_background": "light"
     },
     "output_type": "display_data"
    }
   ],
   "source": [
    "## 1) 总体分布概况（无界约翰逊分布等）\n",
    "import scipy.stats as st\n",
    "y = Train_data['label']\n",
    "plt.figure(1); plt.title('Default')\n",
    "sns.distplot(y, rug=True, bins=20)\n"
   ]
  },
  {
   "cell_type": "code",
   "execution_count": 28,
   "metadata": {
    "uuid": "136159c6-9fd6-42e9-9848-3c8263eaef7b"
   },
   "outputs": [
    {
     "data": {
      "text/plain": [
       "<matplotlib.axes._subplots.AxesSubplot at 0x7fc3405a8358>"
      ]
     },
     "execution_count": 28,
     "metadata": {},
     "output_type": "execute_result"
    },
    {
     "data": {
      "image/png": "[encoded data removed]",
      "text/plain": [
       "<Figure size 432x288 with 1 Axes>"
      ]
     },
     "metadata": {
      "needs_background": "light"
     },
     "output_type": "display_data"
    }
   ],
   "source": [
    "plt.figure(2); plt.title('Normal')\n",
    "sns.distplot(y, kde=False, fit=st.norm)\n"
   ]
  },
  {
   "cell_type": "code",
   "execution_count": 29,
   "metadata": {
    "uuid": "418a02c2-0025-484b-bffa-46ffc63e5655"
   },
   "outputs": [
    {
     "data": {
      "text/plain": [
       "<matplotlib.axes._subplots.AxesSubplot at 0x7fc340106668>"
      ]
     },
     "execution_count": 29,
     "metadata": {},
     "output_type": "execute_result"
    },
    {
     "data": {
      "image/png": "[encoded data removed]",
      "text/plain": [
       "<Figure size 432x288 with 1 Axes>"
      ]
     },
     "metadata": {
      "needs_background": "light"
     },
     "output_type": "display_data"
    }
   ],
   "source": [
    "plt.figure(3); plt.title('Log Normal')\n",
    "sns.distplot(y, kde=False, fit=st.lognorm)"
   ]
  },
  {
   "cell_type": "code",
   "execution_count": 30,
   "metadata": {
    "uuid": "a475eb46-928d-4ae1-89c3-76dfab11c19c"
   },
   "outputs": [
    {
     "name": "stdout",
     "output_type": "stream",
     "text": [
      "Skewness: 0.871005\n",
      "Kurtosis: -1.009573\n"
     ]
    },
    {
     "data": {
      "image/png": "[encoded data removed]",
      "text/plain": [
       "<Figure size 432x288 with 1 Axes>"
      ]
     },
     "metadata": {
      "needs_background": "light"
     },
     "output_type": "display_data"
    }
   ],
   "source": [
    "# 2）查看skewness and kurtosis\n",
    "sns.distplot(Train_data['label']);\n",
    "print(\"Skewness: %f\" % Train_data['label'].skew())\n",
    "print(\"Kurtosis: %f\" % Train_data['label'].kurt())"
   ]
  },
  {
   "cell_type": "code",
   "execution_count": 31,
   "metadata": {
    "uuid": "2479c8f0-7da2-4260-8a68-09fb6e1dcfae"
   },
   "outputs": [
    {
     "data": {
      "text/plain": [
       "(id       0.000000\n",
       " label    0.871005\n",
       " dtype: float64, id      -1.200000\n",
       " label   -1.009573\n",
       " dtype: float64)"
      ]
     },
     "execution_count": 31,
     "metadata": {},
     "output_type": "execute_result"
    }
   ],
   "source": [
    "Train_data.skew(), Train_data.kurt()"
   ]
  },
  {
   "cell_type": "code",
   "execution_count": 32,
   "metadata": {
    "uuid": "ad6bf55d-b639-412c-8e3e-5b21662d2280"
   },
   "outputs": [
    {
     "data": {
      "text/plain": [
       "<matplotlib.axes._subplots.AxesSubplot at 0x7fc33fec9f28>"
      ]
     },
     "execution_count": 32,
     "metadata": {},
     "output_type": "execute_result"
    },
    {
     "data": {
      "image/png": "[encoded data removed]",
      "text/plain": [
       "<Figure size 432x288 with 1 Axes>"
      ]
     },
     "metadata": {
      "needs_background": "light"
     },
     "output_type": "display_data"
    }
   ],
   "source": [
    "sns.distplot(Train_data.kurt(),color='orange',axlabel ='Kurtness')"
   ]
  },
  {
   "cell_type": "code",
   "execution_count": 33,
   "metadata": {
    "uuid": "630715e5-179f-44a2-b825-e4ebc8f53e2b"
   },
   "outputs": [],
   "source": [
    "import pandas_profiling"
   ]
  },
  {
   "cell_type": "code",
   "execution_count": null,
   "metadata": {
    "uuid": "6c2f1147-5dc7-4521-9dfc-e4a2bb7a3940"
   },
   "outputs": [
    {
     "data": {
      "application/vnd.jupyter.widget-view+json": {
       "model_id": "621e98b8786c4f2b89f27ad15c4e4cf7",
       "version_major": 2,
       "version_minor": 0
      },
      "text/plain": [
       "Summarize dataset:   0%|          | 0/16 [00:00<?, ?it/s]"
      ]
     },
     "metadata": {},
     "output_type": "display_data"
    }
   ],
   "source": [
    "#用pandas_profiling生成数据报告\n",
    "pfr = pandas_profiling.ProfileReport(Train_data)\n",
    "pfr.to_file(\"./example.html\")"
   ]
  }
 ],
 "metadata": {
  "kernelspec": {
   "display_name": "Python 3",
   "language": "python",
   "name": "python3"
  },
  "language_info": {
   "codemirror_mode": {
    "name": "ipython",
    "version": 3
   },
   "file_extension": ".py",
   "mimetype": "text/x-python",
   "name": "python",
   "nbconvert_exporter": "python",
   "pygments_lexer": "ipython3",
   "version": "3.6.4"
  }
 },
 "nbformat": 4,
 "nbformat_minor": 4
}

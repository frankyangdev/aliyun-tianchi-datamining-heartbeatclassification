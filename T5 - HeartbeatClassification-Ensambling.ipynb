{
  "cells": [
    {
      "cell_type": "code",
      "source": [
        "!pip3 install catboost --user"
      ],
      "outputs": [
        {
          "output_type": "stream",
          "name": "stdout",
          "text": [
            "Requirement already satisfied: catboost in /home/azureuser/.local/lib/python3.6/site-packages (0.24.4)\n",
            "Requirement already satisfied: plotly in /home/azureuser/.local/lib/python3.6/site-packages (from catboost) (4.14.3)\n",
            "Requirement already satisfied: six in /anaconda/envs/azureml_py36/lib/python3.6/site-packages (from catboost) (1.15.0)\n",
            "Requirement already satisfied: matplotlib in /anaconda/envs/azureml_py36/lib/python3.6/site-packages (from catboost) (3.2.1)\n",
            "Requirement already satisfied: scipy in /anaconda/envs/azureml_py36/lib/python3.6/site-packages (from catboost) (1.5.2)\n",
            "Requirement already satisfied: pandas>=0.24.0 in /anaconda/envs/azureml_py36/lib/python3.6/site-packages (from catboost) (0.25.3)\n",
            "Requirement already satisfied: numpy>=1.16.0 in /anaconda/envs/azureml_py36/lib/python3.6/site-packages (from catboost) (1.18.5)\n",
            "Requirement already satisfied: graphviz in /home/azureuser/.local/lib/python3.6/site-packages (from catboost) (0.16)\n",
            "Requirement already satisfied: retrying>=1.3.3 in /home/azureuser/.local/lib/python3.6/site-packages (from plotly->catboost) (1.3.3)\n",
            "Requirement already satisfied: pyparsing!=2.0.4,!=2.1.2,!=2.1.6,>=2.0.1 in /anaconda/envs/azureml_py36/lib/python3.6/site-packages (from matplotlib->catboost) (2.4.7)\n",
            "Requirement already satisfied: kiwisolver>=1.0.1 in /anaconda/envs/azureml_py36/lib/python3.6/site-packages (from matplotlib->catboost) (1.3.1)\n",
            "Requirement already satisfied: python-dateutil>=2.1 in /anaconda/envs/azureml_py36/lib/python3.6/site-packages (from matplotlib->catboost) (2.8.1)\n",
            "Requirement already satisfied: cycler>=0.10 in /anaconda/envs/azureml_py36/lib/python3.6/site-packages (from matplotlib->catboost) (0.10.0)\n",
            "Requirement already satisfied: pytz>=2017.2 in /anaconda/envs/azureml_py36/lib/python3.6/site-packages (from pandas>=0.24.0->catboost) (2021.1)\n"
          ]
        }
      ],
      "execution_count": 2,
      "metadata": {
        "uuid": "a9b76814-4ea9-48a2-ba40-5433d5c56f0f"
      }
    },
    {
      "cell_type": "code",
      "source": [
        "!pip3 install lightgbm --user"
      ],
      "outputs": [
        {
          "output_type": "stream",
          "name": "stdout",
          "text": [
            "Requirement already satisfied: lightgbm in /anaconda/envs/azureml_py36/lib/python3.6/site-packages (2.3.0)\r\n",
            "Requirement already satisfied: numpy in /anaconda/envs/azureml_py36/lib/python3.6/site-packages (from lightgbm) (1.18.5)\r\n",
            "Requirement already satisfied: scikit-learn in /anaconda/envs/azureml_py36/lib/python3.6/site-packages (from lightgbm) (0.22.2.post1)\r\n",
            "Requirement already satisfied: scipy in /anaconda/envs/azureml_py36/lib/python3.6/site-packages (from lightgbm) (1.5.2)\r\n",
            "Requirement already satisfied: joblib>=0.11 in /anaconda/envs/azureml_py36/lib/python3.6/site-packages (from scikit-learn->lightgbm) (0.14.1)\r\n"
          ]
        }
      ],
      "execution_count": 3,
      "metadata": {
        "uuid": "3f23ade2-3a3e-48de-91c7-296a037206fd"
      }
    },
    {
      "cell_type": "code",
      "source": [
        "!pip3 install xgboost --user"
      ],
      "outputs": [
        {
          "output_type": "stream",
          "name": "stdout",
          "text": [
            "Requirement already satisfied: xgboost in /anaconda/envs/azureml_py36/lib/python3.6/site-packages (1.3.3)\r\n",
            "Requirement already satisfied: numpy in /anaconda/envs/azureml_py36/lib/python3.6/site-packages (from xgboost) (1.18.5)\r\n",
            "Requirement already satisfied: scipy in /anaconda/envs/azureml_py36/lib/python3.6/site-packages (from xgboost) (1.5.2)\r\n"
          ]
        }
      ],
      "execution_count": 4,
      "metadata": {
        "uuid": "fd89162e-9e34-4f30-87da-542f012c6ab9"
      }
    },
    {
      "cell_type": "code",
      "source": [
        "import os\n",
        "import gc\n",
        "import math\n",
        "\n",
        "import pandas as pd\n",
        "import numpy as np\n",
        "\n",
        "import lightgbm as lgb\n",
        "import xgboost as xgb\n",
        "from catboost import CatBoostRegressor\n",
        "from sklearn.linear_model import SGDRegressor, LinearRegression, Ridge\n",
        "from sklearn.preprocessing import MinMaxScaler\n",
        "\n",
        "\n",
        "from sklearn.model_selection import StratifiedKFold, KFold\n",
        "from sklearn.metrics import log_loss\n",
        "from sklearn.model_selection import train_test_split\n",
        "from sklearn.preprocessing import OneHotEncoder\n",
        "\n",
        "from tqdm import tqdm\n",
        "import matplotlib.pyplot as plt\n",
        "import time\n",
        "import warnings\n",
        "warnings.filterwarnings('ignore')"
      ],
      "outputs": [],
      "execution_count": 5,
      "metadata": {
        "uuid": "faf41328-740b-4ace-b348-9aecef73ff3a",
        "gather": {
          "logged": 1616807816578
        }
      }
    },
    {
      "cell_type": "code",
      "source": [
        "#读取数据\n",
        "train = pd.read_csv('train.csv')\n",
        "test=pd.read_csv('testA.csv')\n",
        "train.head(50)"
      ],
      "outputs": [
        {
          "output_type": "execute_result",
          "execution_count": 6,
          "data": {
            "text/plain": "    id                                  heartbeat_signals  label\n0    0  0.9912297987616655,0.9435330436439665,0.764677...    0.0\n1    1  0.9714822034884503,0.9289687459588268,0.572932...    0.0\n2    2  1.0,0.9591487564065292,0.7013782792997189,0.23...    2.0\n3    3  0.9757952826275774,0.9340884687738161,0.659636...    0.0\n4    4  0.0,0.055816398940721094,0.26129357194994196,0...    2.0\n5    5  1.0,0.8675497147252661,0.5128848334259041,0.36...    0.0\n6    6  0.9505940730409403,0.9166910623948625,0.848396...    2.0\n7    7  0.8681707532149519,0.8318642354644805,0.531120...    2.0\n8    8  0.9792414410794537,0.6155508397973931,0.632268...    3.0\n9    9  0.9917559671326545,1.0,0.9740518898684873,0.93...    2.0\n10  10  0.7776075929954396,0.6920800485100926,0.602560...    3.0\n11  11  0.0,0.12046752033856772,0.285957554191089,0.41...    0.0\n12  12  0.9252141321895656,0.8779924675549222,0.345761...    1.0\n13  13  1.0,0.9458110981341936,0.7666455363406568,0.50...    2.0\n14  14  0.814321395420132,0.7402609622914397,0.6550196...    3.0\n15  15  0.9605437317666576,0.45848775058496943,0.01548...    0.0\n16  16  1.0,0.9258682803508748,0.5385424415808975,0.16...    0.0\n17  17  0.9946861950265535,0.7767233240713837,0.290470...    0.0\n18  18  0.8468832809320361,0.8001808672219326,0.845490...    3.0\n19  19  1.0,0.6653359171851763,0.4918530963296747,0.31...    0.0\n20  20  0.9388597089086641,0.8218202952999004,0.381731...    0.0\n21  21  0.6372943707453936,0.5307822734972873,0.407088...    2.0\n22  22  0.9770736169248465,0.9318023120687151,0.685364...    0.0\n23  23  0.9656298251848078,0.9258896645858993,0.883854...    3.0\n24  24  0.7896311490368609,0.8660372318969782,0.826602...    2.0\n25  25  0.9705705413651573,0.8739646045967879,0.650057...    0.0\n26  26  0.5712493340311691,0.5483748624931888,0.444244...    0.0\n27  27  0.7247158534309897,0.6382835708051017,0.519766...    2.0\n28  28  0.9940144977756433,0.6095294072171888,0.609748...    3.0\n29  29  1.0,0.9138801183964681,0.5592567902002209,0.35...    0.0\n30  30  1.0,0.7896401529065578,0.32915966257059437,0.0...    0.0\n31  31  0.973779814365007,0.9146235912543943,0.6876292...    0.0\n32  32  1.0,0.9131951674632317,0.19352237143670928,0.1...    0.0\n33  33  1.0,0.9621378527718282,0.4645698048221909,0.0,...    0.0\n34  34  0.992127162875099,0.9182304297710062,0.4741666...    0.0\n35  35  1.0,0.6362812642906739,0.4894398976958974,0.31...    0.0\n36  36  0.9519057256450161,0.8936911059469604,0.618726...    0.0\n37  37  1.0,0.602820277317863,0.5898794991826486,0.630...    3.0\n38  38  1.0,0.9232938408986751,0.6111800114372911,0.26...    0.0\n39  39  0.9623771986033592,0.985295787706603,0.5228767...    0.0\n40  40  1.0,0.9294541938071404,0.6432301471817717,0.35...    0.0\n41  41  0.5364708939230977,0.4697546761364632,0.358793...    0.0\n42  42  1.0,0.9537769668410081,0.8114339837172381,0.63...    0.0\n43  43  0.9792414410794537,0.8707169911167203,0.554413...    0.0\n44  44  1.0,0.8707169911167203,0.2857544845172509,0.05...    0.0\n45  45  1.0,0.9347085568669242,0.3039423418627903,0.04...    0.0\n46  46  0.9410763734254239,1.0,0.9555815217969701,0.88...    2.0\n47  47  0.783176191164021,0.7375189809408202,0.5264167...    2.0\n48  48  0.0,0.27287259236715444,0.43812110113111624,0....    0.0\n49  49  0.9632882296220554,0.7556928186144114,0.558132...    0.0",
            "text/html": "<div>\n<style scoped>\n    .dataframe tbody tr th:only-of-type {\n        vertical-align: middle;\n    }\n\n    .dataframe tbody tr th {\n        vertical-align: top;\n    }\n\n    .dataframe thead th {\n        text-align: right;\n    }\n</style>\n<table border=\"1\" class=\"dataframe\">\n  <thead>\n    <tr style=\"text-align: right;\">\n      <th></th>\n      <th>id</th>\n      <th>heartbeat_signals</th>\n      <th>label</th>\n    </tr>\n  </thead>\n  <tbody>\n    <tr>\n      <th>0</th>\n      <td>0</td>\n      <td>0.9912297987616655,0.9435330436439665,0.764677...</td>\n      <td>0.0</td>\n    </tr>\n    <tr>\n      <th>1</th>\n      <td>1</td>\n      <td>0.9714822034884503,0.9289687459588268,0.572932...</td>\n      <td>0.0</td>\n    </tr>\n    <tr>\n      <th>2</th>\n      <td>2</td>\n      <td>1.0,0.9591487564065292,0.7013782792997189,0.23...</td>\n      <td>2.0</td>\n    </tr>\n    <tr>\n      <th>3</th>\n      <td>3</td>\n      <td>0.9757952826275774,0.9340884687738161,0.659636...</td>\n      <td>0.0</td>\n    </tr>\n    <tr>\n      <th>4</th>\n      <td>4</td>\n      <td>0.0,0.055816398940721094,0.26129357194994196,0...</td>\n      <td>2.0</td>\n    </tr>\n    <tr>\n      <th>5</th>\n      <td>5</td>\n      <td>1.0,0.8675497147252661,0.5128848334259041,0.36...</td>\n      <td>0.0</td>\n    </tr>\n    <tr>\n      <th>6</th>\n      <td>6</td>\n      <td>0.9505940730409403,0.9166910623948625,0.848396...</td>\n      <td>2.0</td>\n    </tr>\n    <tr>\n      <th>7</th>\n      <td>7</td>\n      <td>0.8681707532149519,0.8318642354644805,0.531120...</td>\n      <td>2.0</td>\n    </tr>\n    <tr>\n      <th>8</th>\n      <td>8</td>\n      <td>0.9792414410794537,0.6155508397973931,0.632268...</td>\n      <td>3.0</td>\n    </tr>\n    <tr>\n      <th>9</th>\n      <td>9</td>\n      <td>0.9917559671326545,1.0,0.9740518898684873,0.93...</td>\n      <td>2.0</td>\n    </tr>\n    <tr>\n      <th>10</th>\n      <td>10</td>\n      <td>0.7776075929954396,0.6920800485100926,0.602560...</td>\n      <td>3.0</td>\n    </tr>\n    <tr>\n      <th>11</th>\n      <td>11</td>\n      <td>0.0,0.12046752033856772,0.285957554191089,0.41...</td>\n      <td>0.0</td>\n    </tr>\n    <tr>\n      <th>12</th>\n      <td>12</td>\n      <td>0.9252141321895656,0.8779924675549222,0.345761...</td>\n      <td>1.0</td>\n    </tr>\n    <tr>\n      <th>13</th>\n      <td>13</td>\n      <td>1.0,0.9458110981341936,0.7666455363406568,0.50...</td>\n      <td>2.0</td>\n    </tr>\n    <tr>\n      <th>14</th>\n      <td>14</td>\n      <td>0.814321395420132,0.7402609622914397,0.6550196...</td>\n      <td>3.0</td>\n    </tr>\n    <tr>\n      <th>15</th>\n      <td>15</td>\n      <td>0.9605437317666576,0.45848775058496943,0.01548...</td>\n      <td>0.0</td>\n    </tr>\n    <tr>\n      <th>16</th>\n      <td>16</td>\n      <td>1.0,0.9258682803508748,0.5385424415808975,0.16...</td>\n      <td>0.0</td>\n    </tr>\n    <tr>\n      <th>17</th>\n      <td>17</td>\n      <td>0.9946861950265535,0.7767233240713837,0.290470...</td>\n      <td>0.0</td>\n    </tr>\n    <tr>\n      <th>18</th>\n      <td>18</td>\n      <td>0.8468832809320361,0.8001808672219326,0.845490...</td>\n      <td>3.0</td>\n    </tr>\n    <tr>\n      <th>19</th>\n      <td>19</td>\n      <td>1.0,0.6653359171851763,0.4918530963296747,0.31...</td>\n      <td>0.0</td>\n    </tr>\n    <tr>\n      <th>20</th>\n      <td>20</td>\n      <td>0.9388597089086641,0.8218202952999004,0.381731...</td>\n      <td>0.0</td>\n    </tr>\n    <tr>\n      <th>21</th>\n      <td>21</td>\n      <td>0.6372943707453936,0.5307822734972873,0.407088...</td>\n      <td>2.0</td>\n    </tr>\n    <tr>\n      <th>22</th>\n      <td>22</td>\n      <td>0.9770736169248465,0.9318023120687151,0.685364...</td>\n      <td>0.0</td>\n    </tr>\n    <tr>\n      <th>23</th>\n      <td>23</td>\n      <td>0.9656298251848078,0.9258896645858993,0.883854...</td>\n      <td>3.0</td>\n    </tr>\n    <tr>\n      <th>24</th>\n      <td>24</td>\n      <td>0.7896311490368609,0.8660372318969782,0.826602...</td>\n      <td>2.0</td>\n    </tr>\n    <tr>\n      <th>25</th>\n      <td>25</td>\n      <td>0.9705705413651573,0.8739646045967879,0.650057...</td>\n      <td>0.0</td>\n    </tr>\n    <tr>\n      <th>26</th>\n      <td>26</td>\n      <td>0.5712493340311691,0.5483748624931888,0.444244...</td>\n      <td>0.0</td>\n    </tr>\n    <tr>\n      <th>27</th>\n      <td>27</td>\n      <td>0.7247158534309897,0.6382835708051017,0.519766...</td>\n      <td>2.0</td>\n    </tr>\n    <tr>\n      <th>28</th>\n      <td>28</td>\n      <td>0.9940144977756433,0.6095294072171888,0.609748...</td>\n      <td>3.0</td>\n    </tr>\n    <tr>\n      <th>29</th>\n      <td>29</td>\n      <td>1.0,0.9138801183964681,0.5592567902002209,0.35...</td>\n      <td>0.0</td>\n    </tr>\n    <tr>\n      <th>30</th>\n      <td>30</td>\n      <td>1.0,0.7896401529065578,0.32915966257059437,0.0...</td>\n      <td>0.0</td>\n    </tr>\n    <tr>\n      <th>31</th>\n      <td>31</td>\n      <td>0.973779814365007,0.9146235912543943,0.6876292...</td>\n      <td>0.0</td>\n    </tr>\n    <tr>\n      <th>32</th>\n      <td>32</td>\n      <td>1.0,0.9131951674632317,0.19352237143670928,0.1...</td>\n      <td>0.0</td>\n    </tr>\n    <tr>\n      <th>33</th>\n      <td>33</td>\n      <td>1.0,0.9621378527718282,0.4645698048221909,0.0,...</td>\n      <td>0.0</td>\n    </tr>\n    <tr>\n      <th>34</th>\n      <td>34</td>\n      <td>0.992127162875099,0.9182304297710062,0.4741666...</td>\n      <td>0.0</td>\n    </tr>\n    <tr>\n      <th>35</th>\n      <td>35</td>\n      <td>1.0,0.6362812642906739,0.4894398976958974,0.31...</td>\n      <td>0.0</td>\n    </tr>\n    <tr>\n      <th>36</th>\n      <td>36</td>\n      <td>0.9519057256450161,0.8936911059469604,0.618726...</td>\n      <td>0.0</td>\n    </tr>\n    <tr>\n      <th>37</th>\n      <td>37</td>\n      <td>1.0,0.602820277317863,0.5898794991826486,0.630...</td>\n      <td>3.0</td>\n    </tr>\n    <tr>\n      <th>38</th>\n      <td>38</td>\n      <td>1.0,0.9232938408986751,0.6111800114372911,0.26...</td>\n      <td>0.0</td>\n    </tr>\n    <tr>\n      <th>39</th>\n      <td>39</td>\n      <td>0.9623771986033592,0.985295787706603,0.5228767...</td>\n      <td>0.0</td>\n    </tr>\n    <tr>\n      <th>40</th>\n      <td>40</td>\n      <td>1.0,0.9294541938071404,0.6432301471817717,0.35...</td>\n      <td>0.0</td>\n    </tr>\n    <tr>\n      <th>41</th>\n      <td>41</td>\n      <td>0.5364708939230977,0.4697546761364632,0.358793...</td>\n      <td>0.0</td>\n    </tr>\n    <tr>\n      <th>42</th>\n      <td>42</td>\n      <td>1.0,0.9537769668410081,0.8114339837172381,0.63...</td>\n      <td>0.0</td>\n    </tr>\n    <tr>\n      <th>43</th>\n      <td>43</td>\n      <td>0.9792414410794537,0.8707169911167203,0.554413...</td>\n      <td>0.0</td>\n    </tr>\n    <tr>\n      <th>44</th>\n      <td>44</td>\n      <td>1.0,0.8707169911167203,0.2857544845172509,0.05...</td>\n      <td>0.0</td>\n    </tr>\n    <tr>\n      <th>45</th>\n      <td>45</td>\n      <td>1.0,0.9347085568669242,0.3039423418627903,0.04...</td>\n      <td>0.0</td>\n    </tr>\n    <tr>\n      <th>46</th>\n      <td>46</td>\n      <td>0.9410763734254239,1.0,0.9555815217969701,0.88...</td>\n      <td>2.0</td>\n    </tr>\n    <tr>\n      <th>47</th>\n      <td>47</td>\n      <td>0.783176191164021,0.7375189809408202,0.5264167...</td>\n      <td>2.0</td>\n    </tr>\n    <tr>\n      <th>48</th>\n      <td>48</td>\n      <td>0.0,0.27287259236715444,0.43812110113111624,0....</td>\n      <td>0.0</td>\n    </tr>\n    <tr>\n      <th>49</th>\n      <td>49</td>\n      <td>0.9632882296220554,0.7556928186144114,0.558132...</td>\n      <td>0.0</td>\n    </tr>\n  </tbody>\n</table>\n</div>"
          },
          "metadata": {}
        }
      ],
      "execution_count": 6,
      "metadata": {
        "uuid": "7bdff124-ec94-4d8c-96b3-5fde58b8563e",
        "gather": {
          "logged": 1616807824909
        }
      }
    },
    {
      "cell_type": "code",
      "source": [
        "test.head()"
      ],
      "outputs": [
        {
          "output_type": "execute_result",
          "execution_count": 7,
          "data": {
            "text/plain": "       id                                  heartbeat_signals\n0  100000  0.9915713654170097,1.0,0.6318163407681274,0.13...\n1  100001  0.6075533139615096,0.5417083883163654,0.340694...\n2  100002  0.9752726292239277,0.6710965234906665,0.686758...\n3  100003  0.9956348033996116,0.9170249621481004,0.521096...\n4  100004  1.0,0.8879490481178918,0.745564725322326,0.531...",
            "text/html": "<div>\n<style scoped>\n    .dataframe tbody tr th:only-of-type {\n        vertical-align: middle;\n    }\n\n    .dataframe tbody tr th {\n        vertical-align: top;\n    }\n\n    .dataframe thead th {\n        text-align: right;\n    }\n</style>\n<table border=\"1\" class=\"dataframe\">\n  <thead>\n    <tr style=\"text-align: right;\">\n      <th></th>\n      <th>id</th>\n      <th>heartbeat_signals</th>\n    </tr>\n  </thead>\n  <tbody>\n    <tr>\n      <th>0</th>\n      <td>100000</td>\n      <td>0.9915713654170097,1.0,0.6318163407681274,0.13...</td>\n    </tr>\n    <tr>\n      <th>1</th>\n      <td>100001</td>\n      <td>0.6075533139615096,0.5417083883163654,0.340694...</td>\n    </tr>\n    <tr>\n      <th>2</th>\n      <td>100002</td>\n      <td>0.9752726292239277,0.6710965234906665,0.686758...</td>\n    </tr>\n    <tr>\n      <th>3</th>\n      <td>100003</td>\n      <td>0.9956348033996116,0.9170249621481004,0.521096...</td>\n    </tr>\n    <tr>\n      <th>4</th>\n      <td>100004</td>\n      <td>1.0,0.8879490481178918,0.745564725322326,0.531...</td>\n    </tr>\n  </tbody>\n</table>\n</div>"
          },
          "metadata": {}
        }
      ],
      "execution_count": 7,
      "metadata": {
        "uuid": "d8bb8be8-1d70-40b8-8c2e-5bd88c1c119b",
        "gather": {
          "logged": 1616807828837
        }
      }
    },
    {
      "cell_type": "code",
      "source": [
        "#数据预处理\n",
        "\n",
        "\n",
        "def reduce_mem_usage(df):\n",
        "    start_mem = df.memory_usage().sum() / 1024**2 \n",
        "    print('Memory usage of dataframe is {:.2f} MB'.format(start_mem))\n",
        "    \n",
        "    for col in df.columns:\n",
        "        col_type = df[col].dtype\n",
        "        \n",
        "        if col_type != object:\n",
        "            c_min = df[col].min()\n",
        "            c_max = df[col].max()\n",
        "            if str(col_type)[:3] == 'int':\n",
        "                if c_min > np.iinfo(np.int8).min and c_max < np.iinfo(np.int8).max:\n",
        "                    df[col] = df[col].astype(np.int8)\n",
        "                elif c_min > np.iinfo(np.int16).min and c_max < np.iinfo(np.int16).max:\n",
        "                    df[col] = df[col].astype(np.int16)\n",
        "                elif c_min > np.iinfo(np.int32).min and c_max < np.iinfo(np.int32).max:\n",
        "                    df[col] = df[col].astype(np.int32)\n",
        "                elif c_min > np.iinfo(np.int64).min and c_max < np.iinfo(np.int64).max:\n",
        "                    df[col] = df[col].astype(np.int64)  \n",
        "            else:\n",
        "                if c_min > np.finfo(np.float16).min and c_max < np.finfo(np.float16).max:\n",
        "                    df[col] = df[col].astype(np.float16)\n",
        "                elif c_min > np.finfo(np.float32).min and c_max < np.finfo(np.float32).max:\n",
        "                    df[col] = df[col].astype(np.float32)\n",
        "                else:\n",
        "                    df[col] = df[col].astype(np.float64)\n",
        "        else:\n",
        "            df[col] = df[col].astype('category')\n",
        "\n",
        "    end_mem = df.memory_usage().sum() / 1024**2 \n",
        "    print('Memory usage after optimization is: {:.2f} MB'.format(end_mem))\n",
        "    print('Decreased by {:.1f}%'.format(100 * (start_mem - end_mem) / start_mem))\n",
        "    \n",
        "    return df"
      ],
      "outputs": [],
      "execution_count": 8,
      "metadata": {
        "uuid": "c6833c9c-3d09-45b9-9127-16afb539fadd",
        "gather": {
          "logged": 1616807856896
        }
      }
    },
    {
      "cell_type": "code",
      "source": [
        "# 简单预处理\n",
        "train_list = []\n",
        "for items in train.values:\n",
        "    train_list.append([items[0]] + [float(i) for i in items[1].split(',')] + [items[2]])\n",
        "    \n",
        "test_list = []\n",
        "for items in test.values:\n",
        "    test_list.append([items[0]] + [float(i) for i in items[1].split(',')])\n",
        "\n",
        "train = pd.DataFrame(np.array(train_list))\n",
        "test = pd.DataFrame(np.array(test_list))\n",
        "\n",
        "# id列不算入特征\n",
        "features = ['s_'+str(i) for i in range(len(train_list[0])-2)] \n",
        "train.columns = ['id'] + features + ['label']\n",
        "test.columns = ['id'] + features\n",
        "\n",
        "train = reduce_mem_usage(train)\n",
        "test = reduce_mem_usage(test)"
      ],
      "outputs": [
        {
          "output_type": "stream",
          "name": "stdout",
          "text": [
            "Memory usage of dataframe is 157.93 MB\n",
            "Memory usage after optimization is: 39.67 MB\n",
            "Decreased by 74.9%\n",
            "Memory usage of dataframe is 31.43 MB\n",
            "Memory usage after optimization is: 7.90 MB\n",
            "Decreased by 74.9%\n"
          ]
        }
      ],
      "execution_count": 9,
      "metadata": {
        "uuid": "d36e24df-f74b-4cc5-8683-64ef68266e10",
        "gather": {
          "logged": 1616807938626
        }
      }
    },
    {
      "cell_type": "code",
      "source": [
        "train.head()"
      ],
      "outputs": [
        {
          "output_type": "execute_result",
          "execution_count": 9,
          "data": {
            "text/plain": "    id       s_0       s_1       s_2       s_3       s_4       s_5       s_6  \\\n0  0.0  0.991211  0.943359  0.764648  0.618652  0.379639  0.190796  0.040222   \n1  1.0  0.971680  0.929199  0.572754  0.178467  0.122986  0.132324  0.094421   \n2  2.0  1.000000  0.958984  0.701172  0.231812  0.000000  0.080688  0.128418   \n3  3.0  0.975586  0.934082  0.659668  0.249878  0.237061  0.281494  0.249878   \n4  4.0  0.000000  0.055817  0.261230  0.359863  0.433105  0.453613  0.499023   \n\n        s_7       s_8  ...  s_196  s_197  s_198  s_199  s_200  s_201  s_202  \\\n0  0.026001  0.031708  ...    0.0    0.0    0.0    0.0    0.0    0.0    0.0   \n1  0.089600  0.030487  ...    0.0    0.0    0.0    0.0    0.0    0.0    0.0   \n2  0.187500  0.280762  ...    0.0    0.0    0.0    0.0    0.0    0.0    0.0   \n3  0.249878  0.241455  ...    0.0    0.0    0.0    0.0    0.0    0.0    0.0   \n4  0.542969  0.616699  ...    0.0    0.0    0.0    0.0    0.0    0.0    0.0   \n\n   s_203  s_204  label  \n0    0.0    0.0    0.0  \n1    0.0    0.0    0.0  \n2    0.0    0.0    2.0  \n3    0.0    0.0    0.0  \n4    0.0    0.0    2.0  \n\n[5 rows x 207 columns]",
            "text/html": "<div>\n<style scoped>\n    .dataframe tbody tr th:only-of-type {\n        vertical-align: middle;\n    }\n\n    .dataframe tbody tr th {\n        vertical-align: top;\n    }\n\n    .dataframe thead th {\n        text-align: right;\n    }\n</style>\n<table border=\"1\" class=\"dataframe\">\n  <thead>\n    <tr style=\"text-align: right;\">\n      <th></th>\n      <th>id</th>\n      <th>s_0</th>\n      <th>s_1</th>\n      <th>s_2</th>\n      <th>s_3</th>\n      <th>s_4</th>\n      <th>s_5</th>\n      <th>s_6</th>\n      <th>s_7</th>\n      <th>s_8</th>\n      <th>...</th>\n      <th>s_196</th>\n      <th>s_197</th>\n      <th>s_198</th>\n      <th>s_199</th>\n      <th>s_200</th>\n      <th>s_201</th>\n      <th>s_202</th>\n      <th>s_203</th>\n      <th>s_204</th>\n      <th>label</th>\n    </tr>\n  </thead>\n  <tbody>\n    <tr>\n      <th>0</th>\n      <td>0.0</td>\n      <td>0.991211</td>\n      <td>0.943359</td>\n      <td>0.764648</td>\n      <td>0.618652</td>\n      <td>0.379639</td>\n      <td>0.190796</td>\n      <td>0.040222</td>\n      <td>0.026001</td>\n      <td>0.031708</td>\n      <td>...</td>\n      <td>0.0</td>\n      <td>0.0</td>\n      <td>0.0</td>\n      <td>0.0</td>\n      <td>0.0</td>\n      <td>0.0</td>\n      <td>0.0</td>\n      <td>0.0</td>\n      <td>0.0</td>\n      <td>0.0</td>\n    </tr>\n    <tr>\n      <th>1</th>\n      <td>1.0</td>\n      <td>0.971680</td>\n      <td>0.929199</td>\n      <td>0.572754</td>\n      <td>0.178467</td>\n      <td>0.122986</td>\n      <td>0.132324</td>\n      <td>0.094421</td>\n      <td>0.089600</td>\n      <td>0.030487</td>\n      <td>...</td>\n      <td>0.0</td>\n      <td>0.0</td>\n      <td>0.0</td>\n      <td>0.0</td>\n      <td>0.0</td>\n      <td>0.0</td>\n      <td>0.0</td>\n      <td>0.0</td>\n      <td>0.0</td>\n      <td>0.0</td>\n    </tr>\n    <tr>\n      <th>2</th>\n      <td>2.0</td>\n      <td>1.000000</td>\n      <td>0.958984</td>\n      <td>0.701172</td>\n      <td>0.231812</td>\n      <td>0.000000</td>\n      <td>0.080688</td>\n      <td>0.128418</td>\n      <td>0.187500</td>\n      <td>0.280762</td>\n      <td>...</td>\n      <td>0.0</td>\n      <td>0.0</td>\n      <td>0.0</td>\n      <td>0.0</td>\n      <td>0.0</td>\n      <td>0.0</td>\n      <td>0.0</td>\n      <td>0.0</td>\n      <td>0.0</td>\n      <td>2.0</td>\n    </tr>\n    <tr>\n      <th>3</th>\n      <td>3.0</td>\n      <td>0.975586</td>\n      <td>0.934082</td>\n      <td>0.659668</td>\n      <td>0.249878</td>\n      <td>0.237061</td>\n      <td>0.281494</td>\n      <td>0.249878</td>\n      <td>0.249878</td>\n      <td>0.241455</td>\n      <td>...</td>\n      <td>0.0</td>\n      <td>0.0</td>\n      <td>0.0</td>\n      <td>0.0</td>\n      <td>0.0</td>\n      <td>0.0</td>\n      <td>0.0</td>\n      <td>0.0</td>\n      <td>0.0</td>\n      <td>0.0</td>\n    </tr>\n    <tr>\n      <th>4</th>\n      <td>4.0</td>\n      <td>0.000000</td>\n      <td>0.055817</td>\n      <td>0.261230</td>\n      <td>0.359863</td>\n      <td>0.433105</td>\n      <td>0.453613</td>\n      <td>0.499023</td>\n      <td>0.542969</td>\n      <td>0.616699</td>\n      <td>...</td>\n      <td>0.0</td>\n      <td>0.0</td>\n      <td>0.0</td>\n      <td>0.0</td>\n      <td>0.0</td>\n      <td>0.0</td>\n      <td>0.0</td>\n      <td>0.0</td>\n      <td>0.0</td>\n      <td>2.0</td>\n    </tr>\n  </tbody>\n</table>\n<p>5 rows × 207 columns</p>\n</div>"
          },
          "metadata": {}
        }
      ],
      "execution_count": 9,
      "metadata": {
        "collapsed": true,
        "jupyter": {
          "source_hidden": false,
          "outputs_hidden": false
        },
        "nteract": {
          "transient": {
            "deleting": false
          }
        },
        "gather": {
          "logged": 1616749684171
        }
      }
    },
    {
      "cell_type": "code",
      "source": [
        "test.head()"
      ],
      "outputs": [
        {
          "output_type": "execute_result",
          "execution_count": 10,
          "data": {
            "text/plain": "         id       s_0       s_1       s_2       s_3       s_4       s_5  \\\n0  100000.0  0.991699  1.000000  0.631836  0.136230  0.041412  0.102722   \n1  100001.0  0.607422  0.541504  0.340576  0.000000  0.090698  0.164917   \n2  100002.0  0.975098  0.670898  0.686523  0.708496  0.718750  0.716797   \n3  100003.0  0.995605  0.916992  0.520996  0.000000  0.221802  0.404053   \n4  100004.0  1.000000  0.888184  0.745605  0.531738  0.380371  0.224609   \n\n        s_6       s_7       s_8  ...     s_195     s_196     s_197     s_198  \\\n0  0.120850  0.123413  0.107910  ...  0.000000  0.000000  0.000000  0.000000   \n1  0.195068  0.168823  0.198853  ...  0.389893  0.386963  0.367188  0.364014   \n2  0.720703  0.701660  0.596680  ...  0.000000  0.000000  0.000000  0.000000   \n3  0.490479  0.527344  0.518066  ...  0.000000  0.000000  0.000000  0.000000   \n4  0.091125  0.057648  0.003914  ...  0.000000  0.000000  0.000000  0.000000   \n\n      s_199     s_200     s_201     s_202     s_203    s_204  \n0  0.000000  0.000000  0.000000  0.000000  0.000000  0.00000  \n1  0.360596  0.357178  0.350586  0.350586  0.350586  0.36377  \n2  0.000000  0.000000  0.000000  0.000000  0.000000  0.00000  \n3  0.000000  0.000000  0.000000  0.000000  0.000000  0.00000  \n4  0.000000  0.000000  0.000000  0.000000  0.000000  0.00000  \n\n[5 rows x 206 columns]",
            "text/html": "<div>\n<style scoped>\n    .dataframe tbody tr th:only-of-type {\n        vertical-align: middle;\n    }\n\n    .dataframe tbody tr th {\n        vertical-align: top;\n    }\n\n    .dataframe thead th {\n        text-align: right;\n    }\n</style>\n<table border=\"1\" class=\"dataframe\">\n  <thead>\n    <tr style=\"text-align: right;\">\n      <th></th>\n      <th>id</th>\n      <th>s_0</th>\n      <th>s_1</th>\n      <th>s_2</th>\n      <th>s_3</th>\n      <th>s_4</th>\n      <th>s_5</th>\n      <th>s_6</th>\n      <th>s_7</th>\n      <th>s_8</th>\n      <th>...</th>\n      <th>s_195</th>\n      <th>s_196</th>\n      <th>s_197</th>\n      <th>s_198</th>\n      <th>s_199</th>\n      <th>s_200</th>\n      <th>s_201</th>\n      <th>s_202</th>\n      <th>s_203</th>\n      <th>s_204</th>\n    </tr>\n  </thead>\n  <tbody>\n    <tr>\n      <th>0</th>\n      <td>100000.0</td>\n      <td>0.991699</td>\n      <td>1.000000</td>\n      <td>0.631836</td>\n      <td>0.136230</td>\n      <td>0.041412</td>\n      <td>0.102722</td>\n      <td>0.120850</td>\n      <td>0.123413</td>\n      <td>0.107910</td>\n      <td>...</td>\n      <td>0.000000</td>\n      <td>0.000000</td>\n      <td>0.000000</td>\n      <td>0.000000</td>\n      <td>0.000000</td>\n      <td>0.000000</td>\n      <td>0.000000</td>\n      <td>0.000000</td>\n      <td>0.000000</td>\n      <td>0.00000</td>\n    </tr>\n    <tr>\n      <th>1</th>\n      <td>100001.0</td>\n      <td>0.607422</td>\n      <td>0.541504</td>\n      <td>0.340576</td>\n      <td>0.000000</td>\n      <td>0.090698</td>\n      <td>0.164917</td>\n      <td>0.195068</td>\n      <td>0.168823</td>\n      <td>0.198853</td>\n      <td>...</td>\n      <td>0.389893</td>\n      <td>0.386963</td>\n      <td>0.367188</td>\n      <td>0.364014</td>\n      <td>0.360596</td>\n      <td>0.357178</td>\n      <td>0.350586</td>\n      <td>0.350586</td>\n      <td>0.350586</td>\n      <td>0.36377</td>\n    </tr>\n    <tr>\n      <th>2</th>\n      <td>100002.0</td>\n      <td>0.975098</td>\n      <td>0.670898</td>\n      <td>0.686523</td>\n      <td>0.708496</td>\n      <td>0.718750</td>\n      <td>0.716797</td>\n      <td>0.720703</td>\n      <td>0.701660</td>\n      <td>0.596680</td>\n      <td>...</td>\n      <td>0.000000</td>\n      <td>0.000000</td>\n      <td>0.000000</td>\n      <td>0.000000</td>\n      <td>0.000000</td>\n      <td>0.000000</td>\n      <td>0.000000</td>\n      <td>0.000000</td>\n      <td>0.000000</td>\n      <td>0.00000</td>\n    </tr>\n    <tr>\n      <th>3</th>\n      <td>100003.0</td>\n      <td>0.995605</td>\n      <td>0.916992</td>\n      <td>0.520996</td>\n      <td>0.000000</td>\n      <td>0.221802</td>\n      <td>0.404053</td>\n      <td>0.490479</td>\n      <td>0.527344</td>\n      <td>0.518066</td>\n      <td>...</td>\n      <td>0.000000</td>\n      <td>0.000000</td>\n      <td>0.000000</td>\n      <td>0.000000</td>\n      <td>0.000000</td>\n      <td>0.000000</td>\n      <td>0.000000</td>\n      <td>0.000000</td>\n      <td>0.000000</td>\n      <td>0.00000</td>\n    </tr>\n    <tr>\n      <th>4</th>\n      <td>100004.0</td>\n      <td>1.000000</td>\n      <td>0.888184</td>\n      <td>0.745605</td>\n      <td>0.531738</td>\n      <td>0.380371</td>\n      <td>0.224609</td>\n      <td>0.091125</td>\n      <td>0.057648</td>\n      <td>0.003914</td>\n      <td>...</td>\n      <td>0.000000</td>\n      <td>0.000000</td>\n      <td>0.000000</td>\n      <td>0.000000</td>\n      <td>0.000000</td>\n      <td>0.000000</td>\n      <td>0.000000</td>\n      <td>0.000000</td>\n      <td>0.000000</td>\n      <td>0.00000</td>\n    </tr>\n  </tbody>\n</table>\n<p>5 rows × 206 columns</p>\n</div>"
          },
          "metadata": {}
        }
      ],
      "execution_count": 10,
      "metadata": {
        "collapsed": true,
        "jupyter": {
          "source_hidden": false,
          "outputs_hidden": false
        },
        "nteract": {
          "transient": {
            "deleting": false
          }
        },
        "gather": {
          "logged": 1616749753684
        }
      }
    },
    {
      "cell_type": "code",
      "source": [
        "# 根据8：2划分训练集和校验集\n",
        "X_train = train.drop(['id','label'], axis=1)\n",
        "y_train = train['label']\n",
        "\n",
        "# 测试集\n",
        "X_test = test.drop(['id'], axis=1)\n",
        "\n",
        "# 第一次运行可以先用一个subdata，这样速度会快些\n",
        "X_train = X_train.iloc[:50000,:20]\n",
        "y_train = y_train.iloc[:50000]\n",
        "X_test = X_test.iloc[:,:20]\n",
        "\n",
        "# 划分训练集和测试集\n",
        "X_train, X_val, y_train, y_val = train_test_split(X_train, y_train, test_size=0.2)"
      ],
      "outputs": [],
      "execution_count": 10,
      "metadata": {
        "uuid": "552ecddd-9dbd-48b5-96cd-f2998115dac1",
        "gather": {
          "logged": 1616808078997
        }
      }
    },
    {
      "cell_type": "code",
      "source": [
        "X_test"
      ],
      "outputs": [
        {
          "output_type": "execute_result",
          "execution_count": 16,
          "data": {
            "text/plain": "            s_0       s_1       s_2       s_3       s_4       s_5       s_6  \\\n0      0.991699  1.000000  0.631836  0.136230  0.041412  0.102722  0.120850   \n1      0.607422  0.541504  0.340576  0.000000  0.090698  0.164917  0.195068   \n2      0.975098  0.670898  0.686523  0.708496  0.718750  0.716797  0.720703   \n3      0.995605  0.916992  0.520996  0.000000  0.221802  0.404053  0.490479   \n4      1.000000  0.888184  0.745605  0.531738  0.380371  0.224609  0.091125   \n...         ...       ...       ...       ...       ...       ...       ...   \n19995  1.000000  0.833008  0.634277  0.639160  0.624023  0.598145  0.613770   \n19996  1.000000  0.826172  0.452148  0.082214  0.000000  0.137085  0.201050   \n19997  0.951660  0.916504  0.667480  0.352051  0.255371  0.197388  0.173584   \n19998  0.927734  0.677246  0.242920  0.055359  0.102112  0.072266  0.021011   \n19999  0.665527  0.526855  0.516602  0.376465  0.489258  0.480713  0.459229   \n\n            s_7       s_8       s_9      s_10      s_11      s_12      s_13  \\\n0      0.123413  0.107910  0.110535  0.113098  0.107910  0.102722  0.092224   \n1      0.168823  0.198853  0.153564  0.191650  0.243164  0.292725  0.441650   \n2      0.701660  0.596680  0.487061  0.294434  0.288086  0.281494  0.303955   \n3      0.527344  0.518066  0.545410  0.545410  0.555664  0.565918  0.574707   \n4      0.057648  0.003914  0.007820  0.027191  0.034851  0.042480  0.042480   \n...         ...       ...       ...       ...       ...       ...       ...   \n19995  0.624023  0.628906  0.624023  0.613770  0.621094  0.628906  0.628906   \n19996  0.165649  0.158081  0.165649  0.154297  0.147705  0.140991  0.146729   \n19997  0.141968  0.134521  0.127075  0.119629  0.109619  0.099548  0.104614   \n19998  0.038300  0.048553  0.017532  0.000000  0.015793  0.031403  0.027954   \n19999  0.482910  0.469971  0.399170  0.381104  0.378662  0.376465  0.437256   \n\n           s_14      s_15      s_16      s_17      s_18      s_19  \n0      0.097473  0.100098  0.092224  0.079041  0.079041  0.076355  \n1      0.429199  0.432373  0.432373  0.438721  0.441650  0.454346  \n2      0.251709  0.206543  0.231445  0.244385  0.261475  0.247437  \n3      0.606445  0.632324  0.662598  0.681641  0.716797  0.735352  \n4      0.050079  0.068909  0.046295  0.076355  0.057648  0.065125  \n...         ...       ...       ...       ...       ...       ...  \n19995  0.618652  0.624023  0.634277  0.587402  0.592773  0.587402  \n19996  0.144775  0.135254  0.150513  0.156250  0.169434  0.186279  \n19997  0.084290  0.079163  0.055847  0.050629  0.034821  0.029526  \n19998  0.021011  0.017532  0.038300  0.048553  0.041718  0.031403  \n19999  0.387939  0.390137  0.412842  0.478516  0.555664  0.613770  \n\n[20000 rows x 20 columns]",
            "text/html": "<div>\n<style scoped>\n    .dataframe tbody tr th:only-of-type {\n        vertical-align: middle;\n    }\n\n    .dataframe tbody tr th {\n        vertical-align: top;\n    }\n\n    .dataframe thead th {\n        text-align: right;\n    }\n</style>\n<table border=\"1\" class=\"dataframe\">\n  <thead>\n    <tr style=\"text-align: right;\">\n      <th></th>\n      <th>s_0</th>\n      <th>s_1</th>\n      <th>s_2</th>\n      <th>s_3</th>\n      <th>s_4</th>\n      <th>s_5</th>\n      <th>s_6</th>\n      <th>s_7</th>\n      <th>s_8</th>\n      <th>s_9</th>\n      <th>s_10</th>\n      <th>s_11</th>\n      <th>s_12</th>\n      <th>s_13</th>\n      <th>s_14</th>\n      <th>s_15</th>\n      <th>s_16</th>\n      <th>s_17</th>\n      <th>s_18</th>\n      <th>s_19</th>\n    </tr>\n  </thead>\n  <tbody>\n    <tr>\n      <th>0</th>\n      <td>0.991699</td>\n      <td>1.000000</td>\n      <td>0.631836</td>\n      <td>0.136230</td>\n      <td>0.041412</td>\n      <td>0.102722</td>\n      <td>0.120850</td>\n      <td>0.123413</td>\n      <td>0.107910</td>\n      <td>0.110535</td>\n      <td>0.113098</td>\n      <td>0.107910</td>\n      <td>0.102722</td>\n      <td>0.092224</td>\n      <td>0.097473</td>\n      <td>0.100098</td>\n      <td>0.092224</td>\n      <td>0.079041</td>\n      <td>0.079041</td>\n      <td>0.076355</td>\n    </tr>\n    <tr>\n      <th>1</th>\n      <td>0.607422</td>\n      <td>0.541504</td>\n      <td>0.340576</td>\n      <td>0.000000</td>\n      <td>0.090698</td>\n      <td>0.164917</td>\n      <td>0.195068</td>\n      <td>0.168823</td>\n      <td>0.198853</td>\n      <td>0.153564</td>\n      <td>0.191650</td>\n      <td>0.243164</td>\n      <td>0.292725</td>\n      <td>0.441650</td>\n      <td>0.429199</td>\n      <td>0.432373</td>\n      <td>0.432373</td>\n      <td>0.438721</td>\n      <td>0.441650</td>\n      <td>0.454346</td>\n    </tr>\n    <tr>\n      <th>2</th>\n      <td>0.975098</td>\n      <td>0.670898</td>\n      <td>0.686523</td>\n      <td>0.708496</td>\n      <td>0.718750</td>\n      <td>0.716797</td>\n      <td>0.720703</td>\n      <td>0.701660</td>\n      <td>0.596680</td>\n      <td>0.487061</td>\n      <td>0.294434</td>\n      <td>0.288086</td>\n      <td>0.281494</td>\n      <td>0.303955</td>\n      <td>0.251709</td>\n      <td>0.206543</td>\n      <td>0.231445</td>\n      <td>0.244385</td>\n      <td>0.261475</td>\n      <td>0.247437</td>\n    </tr>\n    <tr>\n      <th>3</th>\n      <td>0.995605</td>\n      <td>0.916992</td>\n      <td>0.520996</td>\n      <td>0.000000</td>\n      <td>0.221802</td>\n      <td>0.404053</td>\n      <td>0.490479</td>\n      <td>0.527344</td>\n      <td>0.518066</td>\n      <td>0.545410</td>\n      <td>0.545410</td>\n      <td>0.555664</td>\n      <td>0.565918</td>\n      <td>0.574707</td>\n      <td>0.606445</td>\n      <td>0.632324</td>\n      <td>0.662598</td>\n      <td>0.681641</td>\n      <td>0.716797</td>\n      <td>0.735352</td>\n    </tr>\n    <tr>\n      <th>4</th>\n      <td>1.000000</td>\n      <td>0.888184</td>\n      <td>0.745605</td>\n      <td>0.531738</td>\n      <td>0.380371</td>\n      <td>0.224609</td>\n      <td>0.091125</td>\n      <td>0.057648</td>\n      <td>0.003914</td>\n      <td>0.007820</td>\n      <td>0.027191</td>\n      <td>0.034851</td>\n      <td>0.042480</td>\n      <td>0.042480</td>\n      <td>0.050079</td>\n      <td>0.068909</td>\n      <td>0.046295</td>\n      <td>0.076355</td>\n      <td>0.057648</td>\n      <td>0.065125</td>\n    </tr>\n    <tr>\n      <th>...</th>\n      <td>...</td>\n      <td>...</td>\n      <td>...</td>\n      <td>...</td>\n      <td>...</td>\n      <td>...</td>\n      <td>...</td>\n      <td>...</td>\n      <td>...</td>\n      <td>...</td>\n      <td>...</td>\n      <td>...</td>\n      <td>...</td>\n      <td>...</td>\n      <td>...</td>\n      <td>...</td>\n      <td>...</td>\n      <td>...</td>\n      <td>...</td>\n      <td>...</td>\n    </tr>\n    <tr>\n      <th>19995</th>\n      <td>1.000000</td>\n      <td>0.833008</td>\n      <td>0.634277</td>\n      <td>0.639160</td>\n      <td>0.624023</td>\n      <td>0.598145</td>\n      <td>0.613770</td>\n      <td>0.624023</td>\n      <td>0.628906</td>\n      <td>0.624023</td>\n      <td>0.613770</td>\n      <td>0.621094</td>\n      <td>0.628906</td>\n      <td>0.628906</td>\n      <td>0.618652</td>\n      <td>0.624023</td>\n      <td>0.634277</td>\n      <td>0.587402</td>\n      <td>0.592773</td>\n      <td>0.587402</td>\n    </tr>\n    <tr>\n      <th>19996</th>\n      <td>1.000000</td>\n      <td>0.826172</td>\n      <td>0.452148</td>\n      <td>0.082214</td>\n      <td>0.000000</td>\n      <td>0.137085</td>\n      <td>0.201050</td>\n      <td>0.165649</td>\n      <td>0.158081</td>\n      <td>0.165649</td>\n      <td>0.154297</td>\n      <td>0.147705</td>\n      <td>0.140991</td>\n      <td>0.146729</td>\n      <td>0.144775</td>\n      <td>0.135254</td>\n      <td>0.150513</td>\n      <td>0.156250</td>\n      <td>0.169434</td>\n      <td>0.186279</td>\n    </tr>\n    <tr>\n      <th>19997</th>\n      <td>0.951660</td>\n      <td>0.916504</td>\n      <td>0.667480</td>\n      <td>0.352051</td>\n      <td>0.255371</td>\n      <td>0.197388</td>\n      <td>0.173584</td>\n      <td>0.141968</td>\n      <td>0.134521</td>\n      <td>0.127075</td>\n      <td>0.119629</td>\n      <td>0.109619</td>\n      <td>0.099548</td>\n      <td>0.104614</td>\n      <td>0.084290</td>\n      <td>0.079163</td>\n      <td>0.055847</td>\n      <td>0.050629</td>\n      <td>0.034821</td>\n      <td>0.029526</td>\n    </tr>\n    <tr>\n      <th>19998</th>\n      <td>0.927734</td>\n      <td>0.677246</td>\n      <td>0.242920</td>\n      <td>0.055359</td>\n      <td>0.102112</td>\n      <td>0.072266</td>\n      <td>0.021011</td>\n      <td>0.038300</td>\n      <td>0.048553</td>\n      <td>0.017532</td>\n      <td>0.000000</td>\n      <td>0.015793</td>\n      <td>0.031403</td>\n      <td>0.027954</td>\n      <td>0.021011</td>\n      <td>0.017532</td>\n      <td>0.038300</td>\n      <td>0.048553</td>\n      <td>0.041718</td>\n      <td>0.031403</td>\n    </tr>\n    <tr>\n      <th>19999</th>\n      <td>0.665527</td>\n      <td>0.526855</td>\n      <td>0.516602</td>\n      <td>0.376465</td>\n      <td>0.489258</td>\n      <td>0.480713</td>\n      <td>0.459229</td>\n      <td>0.482910</td>\n      <td>0.469971</td>\n      <td>0.399170</td>\n      <td>0.381104</td>\n      <td>0.378662</td>\n      <td>0.376465</td>\n      <td>0.437256</td>\n      <td>0.387939</td>\n      <td>0.390137</td>\n      <td>0.412842</td>\n      <td>0.478516</td>\n      <td>0.555664</td>\n      <td>0.613770</td>\n    </tr>\n  </tbody>\n</table>\n<p>20000 rows × 20 columns</p>\n</div>"
          },
          "metadata": {}
        }
      ],
      "execution_count": 16,
      "metadata": {
        "collapsed": true,
        "jupyter": {
          "source_hidden": false,
          "outputs_hidden": false
        },
        "nteract": {
          "transient": {
            "deleting": false
          }
        },
        "gather": {
          "logged": 1616808272517
        }
      }
    },
    {
      "cell_type": "code",
      "source": [
        "from sklearn.ensemble import RandomForestRegressor\r\n",
        "from sklearn.neural_network import MLPRegressor"
      ],
      "outputs": [],
      "execution_count": 11,
      "metadata": {
        "collapsed": true,
        "jupyter": {
          "source_hidden": false,
          "outputs_hidden": false
        },
        "nteract": {
          "transient": {
            "deleting": false
          }
        },
        "gather": {
          "logged": 1616808081986
        }
      }
    },
    {
      "cell_type": "code",
      "source": [
        "# 单模函数\n",
        "def build_model_rf(X_train,y_train):\n",
        "    model = RandomForestRegressor(n_estimators = 100)\n",
        "    model.fit(X_train, y_train)\n",
        "    return model\n",
        "\n",
        "\n",
        "def build_model_lgb(X_train,y_train):\n",
        "    model = lgb.LGBMRegressor(num_leaves=63,learning_rate = 0.1,n_estimators = 100)\n",
        "    model.fit(X_train, y_train)\n",
        "    return model\n",
        "\n",
        "\n",
        "def build_model_nn(X_train,y_train):\n",
        "    model = MLPRegressor(alpha=1e-05, hidden_layer_sizes=(5, 2), random_state=1,solver='lbfgs')\n",
        "    model.fit(X_train, y_train)\n",
        "    return model"
      ],
      "outputs": [],
      "execution_count": 12,
      "metadata": {
        "uuid": "1de53cfb-ee0b-4608-b57a-cc8089a429a2",
        "gather": {
          "logged": 1616808096403
        }
      }
    },
    {
      "cell_type": "code",
      "source": [
        "# 这里针对三个单模进行训练，其中subA_rf/lgb/nn都是可以提交的模型\r\n",
        "# 单模没有进行调参，因此是弱分类器，效果可能不是很好。\r\n",
        "\r\n",
        "print('predict rf...')\r\n",
        "model_rf = build_model_rf(X_train,y_train)\r\n",
        "val_rf = model_rf.predict(X_val)\r\n",
        "subA_rf = model_rf.predict(X_test)\r\n",
        "\r\n",
        "\r\n",
        "print('predict lgb...')\r\n",
        "model_lgb = build_model_lgb(X_train,y_train)\r\n",
        "val_lgb = model_lgb.predict(X_val)\r\n",
        "subA_lgb = model_rf.predict(X_test)\r\n",
        "\r\n",
        "\r\n",
        "print('predict NN...')\r\n",
        "model_nn = build_model_nn(X_train,y_train)\r\n",
        "val_nn = model_nn.predict(X_val)\r\n",
        "subA_nn = model_rf.predict(X_test)"
      ],
      "outputs": [
        {
          "output_type": "stream",
          "name": "stdout",
          "text": [
            "predict rf...\n",
            "predict lgb...\n",
            "predict NN...\n"
          ]
        }
      ],
      "execution_count": 17,
      "metadata": {
        "collapsed": true,
        "jupyter": {
          "source_hidden": false,
          "outputs_hidden": false
        },
        "nteract": {
          "transient": {
            "deleting": false
          }
        },
        "gather": {
          "logged": 1616808357967
        }
      }
    },
    {
      "cell_type": "code",
      "source": [
        "model_rf"
      ],
      "outputs": [
        {
          "output_type": "execute_result",
          "execution_count": 25,
          "data": {
            "text/plain": "RandomForestRegressor(bootstrap=True, ccp_alpha=0.0, criterion='mse',\n                      max_depth=None, max_features='auto', max_leaf_nodes=None,\n                      max_samples=None, min_impurity_decrease=0.0,\n                      min_impurity_split=None, min_samples_leaf=1,\n                      min_samples_split=2, min_weight_fraction_leaf=0.0,\n                      n_estimators=100, n_jobs=None, oob_score=False,\n                      random_state=None, verbose=0, warm_start=False)"
          },
          "metadata": {}
        }
      ],
      "execution_count": 25,
      "metadata": {
        "collapsed": true,
        "jupyter": {
          "source_hidden": false,
          "outputs_hidden": false
        },
        "nteract": {
          "transient": {
            "deleting": false
          }
        },
        "gather": {
          "logged": 1616809510278
        }
      }
    },
    {
      "cell_type": "code",
      "source": [
        "from sklearn.metrics import mean_absolute_error\r\n",
        "\r\n",
        "# 加权融合模型，如果w没有变，就是均值融合\r\n",
        "def Weighted_method(test_pre1,test_pre2,test_pre3,w=[1/3,1/3,1/3]):\r\n",
        "    Weighted_result = w[0]*pd.Series(test_pre1)+w[1]*pd.Series(test_pre2)+w[2]*pd.Series(test_pre3)\r\n",
        "    return Weighted_result\r\n",
        "\r\n",
        "# 初始权重，可以进行自定义，这里我们随便设置一个权重\r\n",
        "w = [0.2, 0.3, 0.5]\r\n",
        "\r\n",
        "val_pre = Weighted_method(val_rf,val_lgb,val_nn,w)\r\n",
        "MAE_Weighted = mean_absolute_error(y_val,val_pre)\r\n",
        "print('MAE of Weighted of val:',MAE_Weighted)"
      ],
      "outputs": [
        {
          "output_type": "stream",
          "name": "stdout",
          "text": [
            "MAE of Weighted of val: 0.2534267706963048\n"
          ]
        }
      ],
      "execution_count": 18,
      "metadata": {
        "collapsed": true,
        "jupyter": {
          "source_hidden": false,
          "outputs_hidden": false
        },
        "nteract": {
          "transient": {
            "deleting": false
          }
        },
        "gather": {
          "logged": 1616809027399
        }
      }
    },
    {
      "cell_type": "code",
      "source": [
        "## 预测数据部分\r\n",
        "subA = Weighted_method(subA_rf,subA_lgb,subA_nn,w)\r\n",
        "\r\n",
        "## 生成提交文件\r\n",
        "sub = pd.DataFrame()\r\n",
        "sub['SaleID'] = X_test.index\r\n",
        "sub['price'] = subA\r\n",
        "sub.to_csv('./sub_Weighted.csv',index=False)"
      ],
      "outputs": [],
      "execution_count": 19,
      "metadata": {
        "collapsed": true,
        "jupyter": {
          "source_hidden": false,
          "outputs_hidden": false
        },
        "nteract": {
          "transient": {
            "deleting": false
          }
        },
        "gather": {
          "logged": 1616809057237
        }
      }
    },
    {
      "cell_type": "code",
      "source": [
        "## Stacking\r\n",
        "\r\n",
        "## 第一层\r\n",
        "train_rf_pred = model_rf.predict(X_train)\r\n",
        "train_lgb_pred = model_lgb.predict(X_train)\r\n",
        "train_nn_pred = model_nn.predict(X_train)\r\n",
        "\r\n",
        "stacking_X_train = pd.DataFrame()\r\n",
        "stacking_X_train['Method_1'] = train_rf_pred\r\n",
        "stacking_X_train['Method_2'] = train_lgb_pred\r\n",
        "stacking_X_train['Method_3'] = train_nn_pred\r\n",
        "\r\n",
        "stacking_X_val = pd.DataFrame()\r\n",
        "stacking_X_val['Method_1'] = val_rf\r\n",
        "stacking_X_val['Method_2'] = val_lgb\r\n",
        "stacking_X_val['Method_3'] = val_nn\r\n",
        "\r\n",
        "stacking_X_test = pd.DataFrame()\r\n",
        "stacking_X_test['Method_1'] = subA_rf\r\n",
        "stacking_X_test['Method_2'] = subA_lgb\r\n",
        "stacking_X_test['Method_3'] = subA_nn"
      ],
      "outputs": [],
      "execution_count": 20,
      "metadata": {
        "collapsed": true,
        "jupyter": {
          "source_hidden": false,
          "outputs_hidden": false
        },
        "nteract": {
          "transient": {
            "deleting": false
          }
        },
        "gather": {
          "logged": 1616809178050
        }
      }
    },
    {
      "cell_type": "code",
      "source": [
        "stacking_X_test.head()"
      ],
      "outputs": [
        {
          "output_type": "execute_result",
          "execution_count": 21,
          "data": {
            "text/plain": "   Method_1  Method_2  Method_3\n0      0.02      0.02      0.02\n1      1.71      1.71      1.71\n2      2.95      2.95      2.95\n3      0.00      0.00      0.00\n4      0.02      0.02      0.02",
            "text/html": "<div>\n<style scoped>\n    .dataframe tbody tr th:only-of-type {\n        vertical-align: middle;\n    }\n\n    .dataframe tbody tr th {\n        vertical-align: top;\n    }\n\n    .dataframe thead th {\n        text-align: right;\n    }\n</style>\n<table border=\"1\" class=\"dataframe\">\n  <thead>\n    <tr style=\"text-align: right;\">\n      <th></th>\n      <th>Method_1</th>\n      <th>Method_2</th>\n      <th>Method_3</th>\n    </tr>\n  </thead>\n  <tbody>\n    <tr>\n      <th>0</th>\n      <td>0.02</td>\n      <td>0.02</td>\n      <td>0.02</td>\n    </tr>\n    <tr>\n      <th>1</th>\n      <td>1.71</td>\n      <td>1.71</td>\n      <td>1.71</td>\n    </tr>\n    <tr>\n      <th>2</th>\n      <td>2.95</td>\n      <td>2.95</td>\n      <td>2.95</td>\n    </tr>\n    <tr>\n      <th>3</th>\n      <td>0.00</td>\n      <td>0.00</td>\n      <td>0.00</td>\n    </tr>\n    <tr>\n      <th>4</th>\n      <td>0.02</td>\n      <td>0.02</td>\n      <td>0.02</td>\n    </tr>\n  </tbody>\n</table>\n</div>"
          },
          "metadata": {}
        }
      ],
      "execution_count": 21,
      "metadata": {
        "collapsed": true,
        "jupyter": {
          "source_hidden": false,
          "outputs_hidden": false
        },
        "nteract": {
          "transient": {
            "deleting": false
          }
        },
        "gather": {
          "logged": 1616809184752
        }
      }
    },
    {
      "cell_type": "code",
      "source": [
        "# 第二层是用random forest\r\n",
        "model_lr_stacking = build_model_rf(stacking_X_train,y_train)\r\n",
        "\r\n",
        "## 训练集\r\n",
        "train_pre_Stacking = model_lr_stacking.predict(stacking_X_train)\r\n",
        "print('MAE of stacking:',mean_absolute_error(y_train,train_pre_Stacking))\r\n",
        "\r\n",
        "## 验证集\r\n",
        "val_pre_Stacking = model_lr_stacking.predict(stacking_X_val)\r\n",
        "print('MAE of stacking:',mean_absolute_error(y_val,val_pre_Stacking))\r\n",
        "\r\n",
        "## 预测集\r\n",
        "print('Predict stacking...')\r\n",
        "subA_Stacking = model_lr_stacking.predict(stacking_X_test)"
      ],
      "outputs": [
        {
          "output_type": "stream",
          "name": "stdout",
          "text": [
            "MAE of stacking: 0.0014112499999999993\n",
            "MAE of stacking: 0.07801\n",
            "Predict stacking...\n"
          ]
        }
      ],
      "execution_count": 22,
      "metadata": {
        "collapsed": true,
        "jupyter": {
          "source_hidden": false,
          "outputs_hidden": false
        },
        "nteract": {
          "transient": {
            "deleting": false
          }
        },
        "gather": {
          "logged": 1616809202506
        }
      }
    }
  ],
  "metadata": {
    "kernelspec": {
      "name": "python3",
      "language": "python",
      "display_name": "Python 3"
    },
    "language_info": {
      "name": "python",
      "version": "3.6.9",
      "mimetype": "text/x-python",
      "codemirror_mode": {
        "name": "ipython",
        "version": 3
      },
      "pygments_lexer": "ipython3",
      "nbconvert_exporter": "python",
      "file_extension": ".py"
    },
    "kernel_info": {
      "name": "python3"
    },
    "nteract": {
      "version": "nteract-front-end@1.0.0"
    },
    "microsoft": {
      "host": {
        "AzureML": {
          "notebookHasBeenCompleted": true
        }
      }
    }
  },
  "nbformat": 4,
  "nbformat_minor": 4
}
